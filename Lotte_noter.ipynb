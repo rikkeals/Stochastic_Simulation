{
 "cells": [
  {
   "cell_type": "markdown",
   "id": "a0e8d34d",
   "metadata": {},
   "source": [
    "## Øvelse 1"
   ]
  },
  {
   "cell_type": "code",
   "execution_count": null,
   "id": "de15a43a",
   "metadata": {},
   "outputs": [],
   "source": []
  },
  {
   "cell_type": "markdown",
   "id": "a37c2352",
   "metadata": {},
   "source": [
    "## Øvelse 2.2 a"
   ]
  },
  {
   "cell_type": "code",
   "execution_count": null,
   "id": "e6f22c03",
   "metadata": {},
   "outputs": [],
   "source": []
  },
  {
   "cell_type": "markdown",
   "id": "ac42d1e3",
   "metadata": {},
   "source": [
    "## Øvelse 2.2 b"
   ]
  },
  {
   "cell_type": "code",
   "execution_count": null,
   "id": "034582da",
   "metadata": {},
   "outputs": [],
   "source": []
  },
  {
   "cell_type": "markdown",
   "id": "33b2b00b",
   "metadata": {},
   "source": [
    "## Øvelse 2.2 c"
   ]
  },
  {
   "cell_type": "code",
   "execution_count": null,
   "id": "0a3b3784",
   "metadata": {},
   "outputs": [],
   "source": []
  }
 ],
 "metadata": {
  "kernelspec": {
   "display_name": "AI",
   "language": "python",
   "name": "python3"
  },
  "language_info": {
   "codemirror_mode": {
    "name": "ipython",
    "version": 3
   },
   "file_extension": ".py",
   "mimetype": "text/x-python",
   "name": "python",
   "nbconvert_exporter": "python",
   "pygments_lexer": "ipython3",
   "version": "3.10.16"
  }
 },
 "nbformat": 4,
 "nbformat_minor": 5
}
