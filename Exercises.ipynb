{
 "cells": [
  {
   "cell_type": "markdown",
   "id": "5a464883",
   "metadata": {},
   "source": [
    "# Exercise solutions"
   ]
  },
  {
   "cell_type": "markdown",
   "id": "36ec8035",
   "metadata": {},
   "source": [
    "## Exercise 1"
   ]
  },
  {
   "cell_type": "markdown",
   "id": "334e0734",
   "metadata": {},
   "source": [
    "A) Write a program implementing a linear congruential generator (LCG). Be sure that the program works correctly using only integer representation."
   ]
  },
  {
   "cell_type": "markdown",
   "id": "56f14609",
   "metadata": {},
   "source": [
    "**Linear Congruential Generator (LCG)**\n",
    "\n",
    "An LCG has the form:\n",
    "\n",
    "$$\n",
    "X_{n+1} = (a \\cdot X_n + c) \\mod m\n",
    "$$\n",
    "\n",
    "Where:\n",
    "\n",
    "- \\( a \\): multiplier  \n",
    "- \\( c \\): shift \n",
    "- \\( m \\): modulus  \n",
    "- \\( X_0 \\): initial value (seed)\n"
   ]
  },
  {
   "cell_type": "code",
   "execution_count": 40,
   "id": "04a10ec2",
   "metadata": {},
   "outputs": [],
   "source": [
    "# Linear Congruential Generator (LCG) implementation\n",
    "def lcg(n, a, c, m, seed=seed):\n",
    "    x = seed\n",
    "    numbers = []\n",
    "    for _ in range(n):\n",
    "        x = (a * x + c) % m\n",
    "        numbers.append(x / m)  # Normaliser til [0,1)\n",
    "    return numbers\n",
    "\n",
    "\n",
    "# Histogram of generated numbers\n",
    "def histogram_data(numbers, num_bins, min_val, max_val):\n",
    "    bin_width = (max_val - min_val) / num_bins\n",
    "    hist_counts = [0] * num_bins\n",
    "    \n",
    "    for val in numbers:\n",
    "        bin_index = int((val - min_val) / bin_width)\n",
    "        if bin_index >= num_bins:  # Clamp to last bin if val == 1.0 (rare but safe)\n",
    "            bin_index = num_bins - 1\n",
    "        hist_counts[bin_index] += 1\n",
    "    \n",
    "    return hist_counts\n",
    "\n",
    "def histogram_plot(num_bins, min_val, max_val, hist_counts):\n",
    "    bin_width = (max_val - min_val) / num_bins\n",
    "    histogram_text = \"\"\n",
    "    \n",
    "    for i in range(num_bins):\n",
    "        start = min_val + i * bin_width\n",
    "        end = start + bin_width\n",
    "        bar = '█' * int((hist_counts[i] / max(hist_counts)) * 40)\n",
    "        label = f\"[{start:.1f}, {end:.1f})\"\n",
    "        histogram_text += f\"{label.ljust(14)} | {bar} ({hist_counts[i]})\\n\"\n",
    "    \n",
    "    return histogram_text\n",
    "\n"
   ]
  },
  {
   "cell_type": "code",
   "execution_count": 41,
   "id": "2567ee19",
   "metadata": {},
   "outputs": [],
   "source": [
    "#Parameters\n",
    "\n",
    "# Constants for LCG\n",
    "a = 5\n",
    "c = 1\n",
    "m = 16\n",
    "n = 10000\n",
    "seed = 237\n",
    "\n",
    "# Parameters for [0,1) interval\n",
    "num_bins = 10\n",
    "min_val = 0.0\n",
    "max_val = 1.0\n",
    "bin_width = (max_val - min_val) / num_bins\n",
    "\n",
    "# Initialize bins\n",
    "hist_counts = [0] * num_bins\n"
   ]
  },
  {
   "cell_type": "code",
   "execution_count": 42,
   "id": "a31b08df",
   "metadata": {},
   "outputs": [
    {
     "name": "stdout",
     "output_type": "stream",
     "text": [
      "Histogram of LCG-generated numbers:\n",
      "[0.0, 0.1)     | ████████████████████████████████████████ (1250)\n",
      "[0.1, 0.2)     | ████████████████████████████████████████ (1250)\n",
      "[0.2, 0.3)     | ████████████████████ (625)\n",
      "[0.3, 0.4)     | ████████████████████████████████████████ (1250)\n",
      "[0.4, 0.5)     | ████████████████████ (625)\n",
      "[0.5, 0.6)     | ████████████████████████████████████████ (1250)\n",
      "[0.6, 0.7)     | ████████████████████████████████████████ (1250)\n",
      "[0.7, 0.8)     | ████████████████████ (625)\n",
      "[0.8, 0.9)     | ████████████████████████████████████████ (1250)\n",
      "[0.9, 1.0)     | ████████████████████ (625)\n",
      "\n"
     ]
    }
   ],
   "source": [
    "#Run the LCG and generate numbers\n",
    "# Generate 10000 random numbers\n",
    "numbers = lcg(n, a, c, m, seed)\n",
    "\n",
    "# Generate histogram data\n",
    "hist_counts = histogram_data(numbers, num_bins, min_val, max_val)\n",
    "\n",
    "# Generate histogram plot\n",
    "histogram_text = histogram_plot(num_bins, min_val, max_val, hist_counts)\n",
    "\n",
    "# Print the histogram\n",
    "print(\"Histogram of LCG-generated numbers:\")\n",
    "print(histogram_text)"
   ]
  },
  {
   "cell_type": "markdown",
   "id": "765679b4",
   "metadata": {},
   "source": [
    "#### B"
   ]
  },
  {
   "cell_type": "markdown",
   "id": "c7399e66",
   "metadata": {},
   "source": [
    "Evaluate the quality of the generator by graphical descriptive statistics (histogrammes, scatter plots) and statistical tests- χ2,Kolmogorov-Smirnov, run-tests preferably but not necessarily all 3, and correlation test forsome h-values."
   ]
  },
  {
   "cell_type": "code",
   "execution_count": 43,
   "id": "333c55d4",
   "metadata": {},
   "outputs": [
    {
     "name": "stdout",
     "output_type": "stream",
     "text": [
      "First 20 generated numbers:\n",
      " i     X_i     \n",
      "--------------\n",
      "0     0.125      \n",
      "1     0.6875     \n",
      "2     0.5        \n",
      "3     0.5625     \n",
      "4     0.875      \n",
      "5     0.4375     \n",
      "6     0.25       \n",
      "7     0.3125     \n",
      "8     0.625      \n",
      "9     0.1875     \n",
      "10    0.0        \n",
      "11    0.0625     \n",
      "12    0.375      \n",
      "13    0.9375     \n",
      "14    0.75       \n",
      "15    0.8125     \n",
      "16    0.125      \n",
      "17    0.6875     \n",
      "18    0.5        \n",
      "19    0.5625     \n"
     ]
    }
   ],
   "source": [
    "# Show 20 x_i\n",
    "def show_numbers(numbers):\n",
    "    print(\"First 20 generated numbers:\")\n",
    "    print(\" i     X_i     \")\n",
    "    print(\"--------------\")\n",
    "    for i in range(20):\n",
    "        xi = round(numbers[i], 4)\n",
    "        print(f\"{i:<5} {xi:<10} \")\n",
    "\n",
    "show_numbers(numbers)\n"
   ]
  },
  {
   "cell_type": "markdown",
   "id": "d9ef1cf0",
   "metadata": {},
   "source": [
    "#### Chi_squared test"
   ]
  },
  {
   "cell_type": "code",
   "execution_count": 44,
   "id": "23b7f0cd",
   "metadata": {},
   "outputs": [
    {
     "name": "stdout",
     "output_type": "stream",
     "text": [
      "\n",
      "Chi-squared statistic: 937.50\n",
      "Degrees of freedom: 9\n"
     ]
    }
   ],
   "source": [
    "def chi_squared_test(hist_counts, num_bins):\n",
    "    \"\"\"\n",
    "    Perform a chi-squared test on the histogram counts.\n",
    "    \"\"\"\n",
    "    expected = len(numbers) // num_bins\n",
    "    chi_squared = 0\n",
    "    df = num_bins - 1  # degrees of freedom\n",
    "    for observed in hist_counts:\n",
    "        chi_squared += ((observed - expected) ** 2) / expected\n",
    "        \n",
    "    return chi_squared, df\n",
    "\n",
    "chi_squared, df = chi_squared_test(hist_counts, num_bins)\n",
    "\n",
    "print(f\"\\nChi-squared statistic: {chi_squared:.2f}\")\n",
    "print(f\"Degrees of freedom: {df}\")\n"
   ]
  },
  {
   "cell_type": "markdown",
   "id": "6cb727aa",
   "metadata": {},
   "source": [
    "#### Correlation test"
   ]
  },
  {
   "cell_type": "code",
   "execution_count": 45,
   "id": "34ef668b",
   "metadata": {},
   "outputs": [
    {
     "name": "stdout",
     "output_type": "stream",
     "text": [
      "Estimated c₁ = 0.24220\n"
     ]
    }
   ],
   "source": [
    "def lag_correlation(U, h=1):\n",
    "    n = len(U)\n",
    "    return sum(U[i] * U[i + h] for i in range(n - h)) / (n - h)\n",
    "\n",
    "ch = lag_correlation(numbers, h=1)\n",
    "print(f\"Estimated c₁ = {ch:.5f}\")\n"
   ]
  },
  {
   "cell_type": "markdown",
   "id": "70662926",
   "metadata": {},
   "source": [
    "#### Kolmogorov Smirnov test"
   ]
  },
  {
   "cell_type": "code",
   "execution_count": 46,
   "id": "4d3c3e99",
   "metadata": {},
   "outputs": [],
   "source": [
    "def ks_test_uniform(data):\n",
    "    n = len(data)\n",
    "    sorted_data = sorted(data)\n",
    "\n",
    "    # Compute empirical CDF and compare with theoretical CDF\n",
    "    D_plus = max((i + 1) / n - val for i, val in enumerate(sorted_data))\n",
    "    D_minus = max(val - i / n for i, val in enumerate(sorted_data))\n",
    "\n",
    "    Dn = max(D_plus, D_minus)\n",
    "    return Dn\n",
    "\n",
    "def ks_critical_value(alpha=0.05, n=10000):\n",
    "    # Critical value constant for alpha = 0.05\n",
    "    c_alpha = 1.36\n",
    "    return c_alpha / (n ** 0.5)\n"
   ]
  },
  {
   "cell_type": "code",
   "execution_count": 47,
   "id": "7ed2ccc4",
   "metadata": {},
   "outputs": [
    {
     "name": "stdout",
     "output_type": "stream",
     "text": [
      "KS Statistic: 0.06250\n",
      "Critical value (alpha=0.05): 0.01360\n",
      "Reject null hypothesis: sample is not uniform.\n"
     ]
    }
   ],
   "source": [
    "# ks test\n",
    "Dn = ks_test_uniform(numbers)\n",
    "D_crit = ks_critical_value(0.05, len(numbers))\n",
    "\n",
    "print(f\"KS Statistic: {Dn:.5f}\")\n",
    "print(f\"Critical value (alpha=0.05): {D_crit:.5f}\")\n",
    "\n",
    "if Dn > D_crit:\n",
    "    print(\"Reject null hypothesis: sample is not uniform.\")\n",
    "else:\n",
    "    print(\"Fail to reject null hypothesis: sample appears uniform.\")"
   ]
  },
  {
   "cell_type": "markdown",
   "id": "786e0d83",
   "metadata": {},
   "source": [
    "#### Run test I"
   ]
  },
  {
   "cell_type": "code",
   "execution_count": 48,
   "id": "bd9e1392",
   "metadata": {},
   "outputs": [],
   "source": [
    "import numpy as np\n",
    "from math import sqrt\n",
    "\n",
    "def run_test_above_below(data):\n",
    "    median = np.median(data)\n",
    "    \n",
    "    # Step 1: Convert to binary sequence: 1 if above median, 0 if below\n",
    "    signs = [1 if x > median else 0 for x in data]\n",
    "    \n",
    "    # Step 2: Count runs (change between 0 and 1)\n",
    "    runs = 1  # first element starts the first run\n",
    "    for i in range(1, len(signs)):\n",
    "        if signs[i] != signs[i - 1]:\n",
    "            runs += 1\n",
    "\n",
    "    n1 = signs.count(1)  # number above median\n",
    "    n2 = signs.count(0)  # number below median\n",
    "\n",
    "    if n1 == 0 or n2 == 0:\n",
    "        return runs, None, None, \"Not enough variation to perform test\"\n",
    "\n",
    "    # Step 3: Calculate expected value and variance under H0\n",
    "    expected_runs = 2 * n1 * n2 / (n1 + n2) + 1\n",
    "    variance_runs = (\n",
    "        2 * n1 * n2 * (2 * n1 * n2 - n1 - n2)\n",
    "        / ((n1 + n2) ** 2 * (n1 + n2 - 1))\n",
    "    )\n",
    "\n",
    "    # Step 4: Compute Z-score\n",
    "    z = (runs - expected_runs) / sqrt(variance_runs)\n",
    "\n",
    "    return runs, expected_runs, z, None\n"
   ]
  },
  {
   "cell_type": "code",
   "execution_count": 49,
   "id": "143a260b",
   "metadata": {},
   "outputs": [
    {
     "name": "stdout",
     "output_type": "stream",
     "text": [
      "Observed number of runs: 3750\n",
      "Expected number of runs: 5001.00\n",
      "Z-score: -25.021\n",
      "Reject null hypothesis: evidence of non-randomness.\n"
     ]
    }
   ],
   "source": [
    "# Run the test\n",
    "runs, expected, z, warning = run_test_above_below(numbers)\n",
    "\n",
    "print(f\"Observed number of runs: {runs}\")\n",
    "print(f\"Expected number of runs: {expected:.2f}\")\n",
    "print(f\"Z-score: {z:.3f}\" if z is not None else warning)\n",
    "\n",
    "# Interpret result\n",
    "if z is not None:\n",
    "    if abs(z) > 1.96:\n",
    "        print(\"Reject null hypothesis: evidence of non-randomness.\")\n",
    "    else:\n",
    "        print(\"Fail to reject null hypothesis: runs appear random.\")\n"
   ]
  },
  {
   "cell_type": "markdown",
   "id": "713f7d28",
   "metadata": {},
   "source": [
    "#### Run test II"
   ]
  },
  {
   "cell_type": "code",
   "execution_count": 50,
   "id": "c35dbd31",
   "metadata": {},
   "outputs": [],
   "source": [
    "import numpy as np\n",
    "\n",
    "def run_test_knuth(data):\n",
    "    n = len(data)\n",
    "\n",
    "    # Step 1: Count run lengths\n",
    "    run_lengths = []\n",
    "    current_run = 1\n",
    "    for i in range(1, n):\n",
    "        if data[i] > data[i - 1]:\n",
    "            current_run += 1\n",
    "        else:\n",
    "            run_lengths.append(current_run)\n",
    "            current_run = 1\n",
    "    run_lengths.append(current_run)  # include final run\n",
    "\n",
    "    # Step 2: Build vector R (run count for length 1-5, and 6+)\n",
    "    R = np.zeros(6)\n",
    "    for length in run_lengths:\n",
    "        if length >= 6:\n",
    "            R[5] += 1\n",
    "        else:\n",
    "            R[length - 1] += 1\n",
    "\n",
    "    # Step 3: Define A matrix (6x6) and B vector (6x1)\n",
    "    A = np.array([\n",
    "        [4529.4, 9044.9, 13568, 18091, 22615, 27892],\n",
    "        [9044.9, 18097, 27139, 36187, 45234, 55789],\n",
    "        [13568, 27139, 40721, 54281, 67852, 83685],\n",
    "        [18091, 36187, 54281, 72414, 90470, 111580],\n",
    "        [22615, 45234, 67852, 90470, 113262, 139476],\n",
    "        [27892, 55789, 83685, 111580, 139476, 172860]\n",
    "    ])\n",
    "\n",
    "    B = np.array([1/6, 5/24, 11/120, 19/720, 29/5040, 1/840])\n",
    "\n",
    "    # Step 4: Compute test statistic Z\n",
    "    diff = R - n * B\n",
    "    Z = (1 / (n - 6)) * diff @ A @ diff.T\n",
    "    return Z, R\n"
   ]
  },
  {
   "cell_type": "code",
   "execution_count": 51,
   "id": "e77a9d31",
   "metadata": {},
   "outputs": [
    {
     "name": "stdout",
     "output_type": "stream",
     "text": [
      "Z-statistic: 1118.827\n",
      "Run counts (lengths 1–5, 6+): [1250 1250 1250  625    0    0]\n",
      "p-value: 0.0000\n"
     ]
    }
   ],
   "source": [
    "# Perform the run test\n",
    "Z, R = run_test_knuth(numbers)\n",
    "\n",
    "print(f\"Z-statistic: {Z:.3f}\")\n",
    "print(\"Run counts (lengths 1–5, 6+):\", R.astype(int))\n",
    "\n",
    "# Interpret using chi-square distribution with 6 degrees of freedom\n",
    "from scipy.stats import chi2\n",
    "p_value = 1 - chi2.cdf(Z, df=6)\n",
    "print(f\"p-value: {p_value:.4f}\")\n"
   ]
  },
  {
   "cell_type": "markdown",
   "id": "0466f6a2",
   "metadata": {},
   "source": [
    "#### Run test III"
   ]
  },
  {
   "cell_type": "code",
   "execution_count": 52,
   "id": "5aa748e3",
   "metadata": {},
   "outputs": [],
   "source": [
    "def up_down_test(data):\n",
    "    if len(data) < 2:\n",
    "        return None, None\n",
    "\n",
    "    # Step 1: Convert data to up/down sequence: 1 for up, -1 for down, 0 for equal\n",
    "    directions = []\n",
    "    for i in range(1, len(data)):\n",
    "        if data[i] > data[i - 1]:\n",
    "            directions.append(1)\n",
    "        elif data[i] < data[i - 1]:\n",
    "            directions.append(-1)\n",
    "\n",
    "    # Step 2: Count runs in the direction sequence\n",
    "    if not directions:\n",
    "        return 0, 0\n",
    "\n",
    "    runs = 1\n",
    "    for i in range(1, len(directions)):\n",
    "        if directions[i] != directions[i - 1]:\n",
    "            runs += 1\n",
    "\n",
    "    # Step 3: Compute expected value and variance\n",
    "    n = len(directions) + 1  # original sample length\n",
    "    expected = (2 * n - 1) / 3\n",
    "    variance = (16 * n - 29) / 90\n",
    "\n",
    "    # Step 4: Compute Z-score\n",
    "    z = (runs - expected) / sqrt(variance)\n",
    "\n",
    "    return z, runs\n"
   ]
  },
  {
   "cell_type": "code",
   "execution_count": 53,
   "id": "77e11187",
   "metadata": {},
   "outputs": [
    {
     "name": "stdout",
     "output_type": "stream",
     "text": [
      "Number of up/down runs: 6249\n",
      "Z-score: -9.8988\n",
      "Reject null hypothesis: sequence shows non-random behavior.\n"
     ]
    }
   ],
   "source": [
    "z, total_runs = up_down_test(numbers)\n",
    "print(f\"Number of up/down runs: {total_runs}\")\n",
    "print(f\"Z-score: {z:.4f}\")\n",
    "\n",
    "# Optional interpretation\n",
    "if abs(z) > 1.96:\n",
    "    print(\"Reject null hypothesis: sequence shows non-random behavior.\")\n",
    "else:\n",
    "    print(\"Fail to reject null hypothesis: no evidence against randomness.\")\n"
   ]
  },
  {
   "cell_type": "markdown",
   "id": "1200d524",
   "metadata": {},
   "source": [
    "#### c) Experimenting with different values of “a”, “c” and “M ”."
   ]
  },
  {
   "cell_type": "code",
   "execution_count": null,
   "id": "e8891c67",
   "metadata": {},
   "outputs": [],
   "source": [
    "def lcg_and_tests(n, a, c, m, seed=seed):\n",
    "    \"\"\"\n",
    "    Generate n random numbers using LCG and perform various tests.\n",
    "    \"\"\"\n",
    "    # Generate numbers\n",
    "    numbers = lcg(n,a, c, m, seed)\n",
    "\n",
    "    # Histogram data\n",
    "    hist_counts = histogram_data(numbers, num_bins, min_val, max_val)\n",
    "    histogram_text = histogram_plot(num_bins, min_val, max_val, hist_counts)\n",
    "\n",
    "    # Chi-squared test\n",
    "    chi_squared, df = chi_squared_test(hist_counts, num_bins)\n",
    "\n",
    "    # Lag-1 correlation\n",
    "    ch = lag_correlation(numbers, h=1)\n",
    "\n",
    "    # KS test\n",
    "    Dn = ks_test_uniform(numbers)\n",
    "    D_crit = ks_critical_value(0.05, len(numbers))\n",
    "\n",
    "    # Run test above/below median\n",
    "    runs, expected, z, warning = run_test_above_below(numbers)\n",
    "\n",
    "    # Run test Knuth\n",
    "    Z, R = run_test_knuth(numbers)\n",
    "\n",
    "    # Up/Down test\n",
    "    z_up_down, total_runs = up_down_test(numbers)\n",
    "\n",
    "    return {\n",
    "        \"numbers\": numbers,\n",
    "        \"histogram_text\": histogram_text,\n",
    "        \"chi_squared\": chi_squared,\n",
    "        \"df\": df,\n",
    "        \"ch\": ch,\n",
    "        \"Dn\": Dn,\n",
    "        \"D_crit\": D_crit,\n",
    "        \"runs\": runs,\n",
    "        \"expected_runs\": expected,\n",
    "        \"z_runs\": z,\n",
    "        \"warning_runs\": warning,\n",
    "        \"Z_knuth\": Z,\n",
    "        \"R_knuth\": R,\n",
    "        \"z_up_down\": z_up_down,\n",
    "        \"total_runs_up_down\": total_runs\n",
    "    }\n",
    "\n",
    "# Print results\n",
    "def print_results(results):\n",
    "    \"\"\"\n",
    "    Print the results of the LCG and statistical tests.\n",
    "    \"\"\"\n",
    "    print(\"Results of LCG and statistical tests:\")\n",
    "    print(\"======================================\")\n",
    "    print(\"Histogram of LCG-generated numbers:\")\n",
    "    print(results[\"histogram_text\"])\n",
    "    show_numbers(results[\"numbers\"])\n",
    "    print(f\"\\nChi-squared statistic: {results['chi_squared']:.2f}\")\n",
    "    print(f\"Degrees of freedom: {results['df']}\")\n",
    "    print(f\"Estimated c₁ = {results['ch']:.5f}\")\n",
    "    print(f\"KS Statistic: {results['Dn']:.5f}\")\n",
    "    print(f\"Critical value (alpha=0.05): {results['D_crit']:.5f}\")\n",
    "    if results[\"Dn\"] > results[\"D_crit\"]:\n",
    "        print(\"Reject null hypothesis: sample is not uniform.\")\n",
    "    else:\n",
    "        print(\"Fail to reject null hypothesis: sample appears uniform.\")\n",
    "    print(f\"Observed number of runs: {results['runs']}\")\n",
    "    print(f\"Expected number of runs: {results['expected_runs']:.2f}\")\n",
    "    if results[\"z_runs\"] is not None:\n",
    "        print(f\"Z-score for runs: {results['z_runs']:.3f}\")\n",
    "    else:\n",
    "        print(results[\"warning_runs\"])\n",
    "    print(f\"Z-statistic (Knuth): {results['Z_knuth']:.3f}\")\n",
    "    print(\"Run counts (lengths 1–5, 6+):\", results[\"R_knuth\"].astype(int))\n",
    "    p_value = 1 - chi2.cdf(results[\"Z_knuth\"], df=6)\n",
    "    print(f\"p-value (Knuth): {p_value:.4f}\")\n",
    "    if results[\"z_up_down\"] is not None:\n",
    "        print(f\"Z-score for up/down runs: {results['z_up_down']:.4f}\")\n",
    "        if abs(results[\"z_up_down\"]) > 1.96:\n",
    "            print(\"Reject null hypothesis: sequence shows non-random behavior.\")\n",
    "        else:\n",
    "            print(\"Fail to reject null hypothesis: no evidence against randomness.\")\n",
    "        print(f\"Total up/down runs: {results['total_runs_up_down']}\")\n"
   ]
  },
  {
   "cell_type": "code",
   "execution_count": null,
   "id": "dbc33206",
   "metadata": {},
   "outputs": [
    {
     "name": "stdout",
     "output_type": "stream",
     "text": [
      "Results of LCG and statistical tests:\n",
      "======================================\n",
      "Histogram of LCG-generated numbers:\n",
      "[0.0, 0.1)     | ████████████████████████████████████████ (9999)\n",
      "[0.1, 0.2)     |  (0)\n",
      "[0.2, 0.3)     |  (0)\n",
      "[0.3, 0.4)     |  (0)\n",
      "[0.4, 0.5)     |  (0)\n",
      "[0.5, 0.6)     |  (1)\n",
      "[0.6, 0.7)     |  (0)\n",
      "[0.7, 0.8)     |  (0)\n",
      "[0.8, 0.9)     |  (0)\n",
      "[0.9, 1.0)     |  (0)\n",
      "\n",
      "First 20 generated numbers:\n",
      " i     X_i     \n",
      "--------------\n",
      "0     0.5625     \n",
      "1     0.0625     \n",
      "2     0.0625     \n",
      "3     0.0625     \n",
      "4     0.0625     \n",
      "5     0.0625     \n",
      "6     0.0625     \n",
      "7     0.0625     \n",
      "8     0.0625     \n",
      "9     0.0625     \n",
      "10    0.0625     \n",
      "11    0.0625     \n",
      "12    0.0625     \n",
      "13    0.0625     \n",
      "14    0.0625     \n",
      "15    0.0625     \n",
      "16    0.0625     \n",
      "17    0.0625     \n",
      "18    0.0625     \n",
      "19    0.0625     \n",
      "\n",
      "Chi-squared statistic: 89980.00\n",
      "Degrees of freedom: 9\n",
      "Estimated c₁ = 0.00391\n",
      "KS Statistic: 0.93740\n",
      "Critical value (alpha=0.05): 0.01360\n",
      "Reject null hypothesis: sample is not uniform.\n",
      "Observed number of runs: 2\n",
      "Expected number of runs: 3.00\n",
      "Z-score for runs: -70.704\n",
      "Z-statistic (Knuth): 55213.536\n",
      "Run counts (lengths 1–5, 6+): [10000     0     0     0     0     0]\n",
      "p-value (Knuth): 0.0000\n",
      "Z-score for up/down runs: 0.0000\n",
      "Fail to reject null hypothesis: no evidence against randomness.\n",
      "Total up/down runs: 1\n"
     ]
    }
   ],
   "source": [
    "#Experiments \n",
    "#New parameters for new LCG \n",
    "#The old ones multiplied by 10^4\n",
    "a = 50000\n",
    "c = 10000\n",
    "m = 160000\n",
    "seed = 3112\n",
    "\n",
    "# Run the LCG and tests with new parameters\n",
    "results_1 = lcg_and_tests(10000, a, c, m, seed)\n",
    "# Print results for first set of parameters\n",
    "print_results(results_1)"
   ]
  },
  {
   "cell_type": "code",
   "execution_count": 69,
   "id": "616f8469",
   "metadata": {},
   "outputs": [
    {
     "name": "stdout",
     "output_type": "stream",
     "text": [
      "\n",
      "Results for second set of parameters:\n",
      "Results of LCG and statistical tests:\n",
      "======================================\n",
      "Histogram of LCG-generated numbers:\n",
      "[0.0, 0.1)     | ██████████████████████████████████ (961)\n",
      "[0.1, 0.2)     | ███████████████████████████████████ (985)\n",
      "[0.2, 0.3)     | █████████████████████████████████████ (1042)\n",
      "[0.3, 0.4)     | ███████████████████████████████████ (979)\n",
      "[0.4, 0.5)     | ███████████████████████████████████ (980)\n",
      "[0.5, 0.6)     | █████████████████████████████████ (936)\n",
      "[0.6, 0.7)     | ████████████████████████████████████████ (1107)\n",
      "[0.7, 0.8)     | █████████████████████████████████████ (1025)\n",
      "[0.8, 0.9)     | ███████████████████████████████████ (995)\n",
      "[0.9, 1.0)     | ███████████████████████████████████ (990)\n",
      "\n",
      "First 20 generated numbers:\n",
      " i     X_i     \n",
      "--------------\n",
      "0     0.0477     \n",
      "1     0.4505     \n",
      "2     0.9678     \n",
      "3     0.8735     \n",
      "4     0.3851     \n",
      "5     0.3921     \n",
      "6     0.846      \n",
      "7     0.36       \n",
      "8     0.9939     \n",
      "9     0.1155     \n",
      "10    0.5604     \n",
      "11    0.2275     \n",
      "12    0.2554     \n",
      "13    0.136      \n",
      "14    0.9353     \n",
      "15    0.2229     \n",
      "16    0.1259     \n",
      "17    0.4632     \n",
      "18    0.479      \n",
      "19    0.2805     \n",
      "\n",
      "Chi-squared statistic: 20.65\n",
      "Degrees of freedom: 9\n",
      "Estimated c₁ = 0.25323\n",
      "KS Statistic: 0.01181\n",
      "Critical value (alpha=0.05): 0.01360\n",
      "Fail to reject null hypothesis: sample appears uniform.\n",
      "Observed number of runs: 4991\n",
      "Expected number of runs: 5001.00\n",
      "Z-score for runs: -0.200\n",
      "Z-statistic (Knuth): 2.758\n",
      "Run counts (lengths 1–5, 6+): [1670 2096  932  249   56   11]\n",
      "p-value (Knuth): 0.8386\n",
      "Z-score for up/down runs: 0.4902\n",
      "Fail to reject null hypothesis: no evidence against randomness.\n",
      "Total up/down runs: 6687\n"
     ]
    }
   ],
   "source": [
    "# New parameters for second LCG\n",
    "# Litterature values for LCG\n",
    "a = 1664525\n",
    "c = 101390\n",
    "m = 2**32\n",
    "seed = 123\n",
    "\n",
    "# Run the LCG and tests with second set of parameters\n",
    "results_2 = lcg_and_tests(10000, a, c, m, seed)\n",
    "# Print results for second set of parameters\n",
    "print(\"\\nResults for second set of parameters:\")\n",
    "print_results(results_2)"
   ]
  },
  {
   "cell_type": "markdown",
   "id": "87bfdeba",
   "metadata": {},
   "source": [
    "#### Øvelse 1.2"
   ]
  },
  {
   "cell_type": "code",
   "execution_count": 55,
   "id": "772d2e94",
   "metadata": {},
   "outputs": [],
   "source": [
    "import random\n",
    "\n",
    "sim_numbers = [random.random() for _ in range(10000)]"
   ]
  },
  {
   "cell_type": "code",
   "execution_count": 56,
   "id": "be9b5ffa",
   "metadata": {},
   "outputs": [
    {
     "name": "stdout",
     "output_type": "stream",
     "text": [
      "[0.0, 0.1)     | █████████████████████████████████████ (979)\n",
      "[0.1, 0.2)     | ████████████████████████████████████ (946)\n",
      "[0.2, 0.3)     | ██████████████████████████████████████ (1012)\n",
      "[0.3, 0.4)     | ███████████████████████████████████████ (1032)\n",
      "[0.4, 0.5)     | ██████████████████████████████████████ (993)\n",
      "[0.5, 0.6)     | ███████████████████████████████████████ (1032)\n",
      "[0.6, 0.7)     | ███████████████████████████████████████ (1026)\n",
      "[0.7, 0.8)     | ██████████████████████████████████████ (997)\n",
      "[0.8, 0.9)     | ████████████████████████████████████ (945)\n",
      "[0.9, 1.0)     | ████████████████████████████████████████ (1038)\n",
      "\n"
     ]
    }
   ],
   "source": [
    "# Parameters for [0,1) interval\n",
    "num_bins = 10\n",
    "min_val = 0.0\n",
    "max_val = 1.0\n",
    "bin_width = (max_val - min_val) / num_bins\n",
    "\n",
    "# Initialize bins\n",
    "hist_counts = [0] * num_bins\n",
    "\n",
    "# Count occurrences in each bin\n",
    "for val in sim_numbers:\n",
    "    bin_index = int((val - min_val) / bin_width)\n",
    "    if bin_index >= num_bins:  # Clamp to last bin if val == 1.0 (rare but safe)\n",
    "        bin_index = num_bins - 1\n",
    "    hist_counts[bin_index] += 1\n",
    "\n",
    "# Determine max count for scaling\n",
    "max_count = max(hist_counts)\n",
    "\n",
    "# Build text histogram\n",
    "histogram_text = \"\"\n",
    "for i in range(num_bins):\n",
    "    start = min_val + i * bin_width\n",
    "    end = start + bin_width\n",
    "    bar = '█' * int((hist_counts[i] / max_count) * 40)\n",
    "    label = f\"[{start:.1f}, {end:.1f})\"\n",
    "    histogram_text += f\"{label.ljust(14)} | {bar} ({hist_counts[i]})\\n\"\n",
    "\n",
    "print(histogram_text)"
   ]
  },
  {
   "cell_type": "code",
   "execution_count": 57,
   "id": "675534d0",
   "metadata": {},
   "outputs": [
    {
     "name": "stdout",
     "output_type": "stream",
     "text": [
      " i     X_i     \n",
      "--------------\n",
      "0     0.125      \n",
      "1     0.6875     \n",
      "2     0.5        \n",
      "3     0.5625     \n",
      "4     0.875      \n",
      "5     0.4375     \n",
      "6     0.25       \n",
      "7     0.3125     \n",
      "8     0.625      \n",
      "9     0.1875     \n",
      "10    0.0        \n",
      "11    0.0625     \n",
      "12    0.375      \n",
      "13    0.9375     \n",
      "14    0.75       \n",
      "15    0.8125     \n",
      "16    0.125      \n",
      "17    0.6875     \n",
      "18    0.5        \n",
      "19    0.5625     \n"
     ]
    }
   ],
   "source": [
    "# Not nessary to show 20 x_i for simulated numbers, but can be done similarly?!?\n",
    "# Show 20 x_i \n",
    "print(\" i     X_i     \")\n",
    "print(\"--------------\")\n",
    "for i in range(20):\n",
    "    xi = round(numbers[i], 4)\n",
    "    print(f\"{i:<5} {xi:<10} \")\n"
   ]
  },
  {
   "cell_type": "markdown",
   "id": "cfaa321c",
   "metadata": {},
   "source": [
    "#### Chi_squared for sim_numbers"
   ]
  },
  {
   "cell_type": "code",
   "execution_count": 58,
   "id": "8462f0e4",
   "metadata": {},
   "outputs": [
    {
     "name": "stdout",
     "output_type": "stream",
     "text": [
      "\n",
      "Chi-squared statistic: 10.75\n"
     ]
    }
   ],
   "source": [
    "expected = len(sim_numbers) // num_bins\n",
    "chi_squared = 0\n",
    "for observed in hist_counts:\n",
    "    chi_squared += ((observed - expected) ** 2) / expected\n",
    "\n",
    "print(f\"\\nChi-squared statistic: {chi_squared:.2f}\")"
   ]
  },
  {
   "cell_type": "markdown",
   "id": "3d44059a",
   "metadata": {},
   "source": [
    "#### KS-test"
   ]
  },
  {
   "cell_type": "code",
   "execution_count": 59,
   "id": "0d26da8e",
   "metadata": {},
   "outputs": [
    {
     "name": "stdout",
     "output_type": "stream",
     "text": [
      "KS Statistic: 0.00954\n",
      "Critical value (alpha=0.05): 0.01360\n",
      "Fail to reject null hypothesis: sample appears uniform.\n"
     ]
    }
   ],
   "source": [
    "# Run test\n",
    "Dn = ks_test_uniform(sim_numbers)\n",
    "D_crit = ks_critical_value(0.05, len(sim_numbers))\n",
    "\n",
    "print(f\"KS Statistic: {Dn:.5f}\")\n",
    "print(f\"Critical value (alpha=0.05): {D_crit:.5f}\")\n",
    "\n",
    "if Dn > D_crit:\n",
    "    print(\"Reject null hypothesis: sample is not uniform.\")\n",
    "else:\n",
    "    print(\"Fail to reject null hypothesis: sample appears uniform.\")"
   ]
  },
  {
   "cell_type": "markdown",
   "id": "d1fa3219",
   "metadata": {},
   "source": [
    "#### Correlation test"
   ]
  },
  {
   "cell_type": "code",
   "execution_count": 60,
   "id": "ddba3480",
   "metadata": {},
   "outputs": [
    {
     "name": "stdout",
     "output_type": "stream",
     "text": [
      "Estimated c₁ = 0.25211\n"
     ]
    }
   ],
   "source": [
    "ch = lag_correlation(sim_numbers, h=1)\n",
    "print(f\"Estimated c₁ = {ch:.5f}\")"
   ]
  },
  {
   "cell_type": "code",
   "execution_count": 61,
   "id": "84691105",
   "metadata": {},
   "outputs": [
    {
     "name": "stdout",
     "output_type": "stream",
     "text": [
      "Observed number of runs: 5009\n",
      "Expected number of runs: 5001.00\n",
      "Z-score: 0.160\n",
      "Fail to reject null hypothesis: runs appear random.\n"
     ]
    }
   ],
   "source": [
    "# Run test 1\n",
    "\n",
    "# Run the test\n",
    "runs, expected, z, warning = run_test_above_below(sim_numbers)\n",
    "\n",
    "print(f\"Observed number of runs: {runs}\")\n",
    "print(f\"Expected number of runs: {expected:.2f}\")\n",
    "print(f\"Z-score: {z:.3f}\" if z is not None else warning)\n",
    "\n",
    "# Interpret result\n",
    "if z is not None:\n",
    "    if abs(z) > 1.96:\n",
    "        print(\"Reject null hypothesis: evidence of non-randomness.\")\n",
    "    else:\n",
    "        print(\"Fail to reject null hypothesis: runs appear random.\")"
   ]
  },
  {
   "cell_type": "code",
   "execution_count": 62,
   "id": "1ccdbc8b",
   "metadata": {},
   "outputs": [
    {
     "name": "stdout",
     "output_type": "stream",
     "text": [
      "Z-statistic: 5.525\n",
      "Run counts (lengths 1–5, 6+): [1674 2059  956  248   54   13]\n",
      "p-value: 0.4784\n"
     ]
    }
   ],
   "source": [
    "# Run test 2\n",
    "\n",
    "# Perform the run test\n",
    "Z, R = run_test_knuth(sim_numbers)\n",
    "\n",
    "print(f\"Z-statistic: {Z:.3f}\")\n",
    "print(\"Run counts (lengths 1–5, 6+):\", R.astype(int))\n",
    "\n",
    "# Interpret using chi-square distribution with 6 degrees of freedom\n",
    "from scipy.stats import chi2\n",
    "p_value = 1 - chi2.cdf(Z, df=6)\n",
    "print(f\"p-value: {p_value:.4f}\")"
   ]
  },
  {
   "cell_type": "code",
   "execution_count": 63,
   "id": "49e1cff0",
   "metadata": {},
   "outputs": [
    {
     "name": "stdout",
     "output_type": "stream",
     "text": [
      "Number of up/down runs: 6660\n",
      "Z-score: -0.1502\n",
      "Fail to reject null hypothesis: no evidence against randomness.\n"
     ]
    }
   ],
   "source": [
    "# Run test 3\n",
    "\n",
    "z, total_runs = up_down_test(sim_numbers)\n",
    "print(f\"Number of up/down runs: {total_runs}\")\n",
    "print(f\"Z-score: {z:.4f}\")\n",
    "\n",
    "# Optional interpretation\n",
    "if abs(z) > 1.96:\n",
    "    print(\"Reject null hypothesis: sequence shows non-random behavior.\")\n",
    "else:\n",
    "    print(\"Fail to reject null hypothesis: no evidence against randomness.\")"
   ]
  },
  {
   "cell_type": "markdown",
   "id": "46d3b2ea",
   "metadata": {},
   "source": [
    "## Exercise 2"
   ]
  },
  {
   "cell_type": "markdown",
   "id": "7973390c",
   "metadata": {},
   "source": [
    "#### Øvelse 1"
   ]
  },
  {
   "cell_type": "code",
   "execution_count": 1,
   "id": "66dec78e",
   "metadata": {},
   "outputs": [
    {
     "data": {
      "image/png": "[encoded data removed]",
      "text/plain": [
       "<Figure size 640x480 with 1 Axes>"
      ]
     },
     "metadata": {},
     "output_type": "display_data"
    },
    {
     "name": "stdout",
     "output_type": "stream",
     "text": [
      "p = 0.01\n",
      "Chi-square test p-value: 0.4279\n",
      "Kolmogorov-Smirnov test p-value: 0.0076\n",
      "----------------------------------------\n"
     ]
    },
    {
     "data": {
      "image/png": "[encoded data removed]",
      "text/plain": [
       "<Figure size 640x480 with 1 Axes>"
      ]
     },
     "metadata": {},
     "output_type": "display_data"
    },
    {
     "name": "stdout",
     "output_type": "stream",
     "text": [
      "p = 0.3\n",
      "Chi-square test p-value: 0.4208\n",
      "Kolmogorov-Smirnov test p-value: 0.0000\n",
      "----------------------------------------\n"
     ]
    },
    {
     "data": {
      "image/png": "[encoded data removed]",
      "text/plain": [
       "<Figure size 640x480 with 1 Axes>"
      ]
     },
     "metadata": {},
     "output_type": "display_data"
    },
    {
     "name": "stdout",
     "output_type": "stream",
     "text": [
      "p = 0.9\n",
      "Chi-square test p-value: 0.6652\n",
      "Kolmogorov-Smirnov test p-value: 0.0000\n",
      "----------------------------------------\n"
     ]
    }
   ],
   "source": [
    "import numpy as np\n",
    "import matplotlib.pyplot as plt\n",
    "from scipy.stats import geom, chisquare, kstest\n",
    "\n",
    "np.random.seed(237)\n",
    "p_values = [0.01, 0.3, 0.9]\n",
    "\n",
    "for p in p_values:\n",
    "    samples = np.random.geometric(p, size=10000)\n",
    "\n",
    "    # Histogram\n",
    "    plt.figure()\n",
    "    plt.hist(samples, bins=range(1, np.max(samples)+1), density=True, alpha=0.6, color='navy', label='Simulated')\n",
    "    \n",
    "    k = np.arange(1, np.max(samples)+1)\n",
    "    theoretical_pmf = geom.pmf(k, p)\n",
    "    #plt.plot(k, theoretical_pmf, '-', label='Theoretical', linewidth=1, color='darkred')\n",
    "    \n",
    "    plt.title(f'Geometric distribution histogram (p={p})')\n",
    "    plt.xlabel('Value')\n",
    "    plt.ylabel('Probability')\n",
    "    plt.legend()\n",
    "    plt.show()\n",
    "\n",
    "    # Chi-square test\n",
    "    observed_counts, _ = np.histogram(samples, bins=range(1, np.max(samples)+2))\n",
    "    expected_counts = geom.pmf(k, p) * len(samples)\n",
    "\n",
    "    # Align lengths and apply threshold for expected counts > 5\n",
    "    valid = expected_counts > 5\n",
    "    obs_valid = observed_counts[valid]\n",
    "    exp_valid = expected_counts[valid]\n",
    "\n",
    "    # Rescale expected to match observed sum\n",
    "    exp_valid = exp_valid * obs_valid.sum() / exp_valid.sum()\n",
    "\n",
    "    chi_stat, chi_p = chisquare(f_obs=obs_valid, f_exp=exp_valid)\n",
    "\n",
    "    # KS test (compare with CDF directly)\n",
    "    ks_stat, ks_p = kstest(samples, geom(p).cdf)\n",
    "\n",
    "    print(f\"p = {p}\")\n",
    "    print(f\"Chi-square test p-value: {chi_p:.4f}\")\n",
    "    print(f\"Kolmogorov-Smirnov test p-value: {ks_p:.4f}\")\n",
    "    print(\"-\" * 40)\n"
   ]
  },
  {
   "cell_type": "markdown",
   "id": "edeebdf4",
   "metadata": {},
   "source": [
    "#### Øvelse 2a"
   ]
  },
  {
   "cell_type": "markdown",
   "id": "d9c882ba",
   "metadata": {},
   "source": []
  },
  {
   "cell_type": "code",
   "execution_count": 2,
   "id": "f6a343a8",
   "metadata": {},
   "outputs": [
    {
     "data": {
      "image/png": "[encoded data removed]",
      "text/plain": [
       "<Figure size 640x480 with 1 Axes>"
      ]
     },
     "metadata": {},
     "output_type": "display_data"
    },
    {
     "name": "stdout",
     "output_type": "stream",
     "text": [
      "Chi-square test:\n",
      "Statistic = 5.3755\n",
      "p-value   = 0.3718\n"
     ]
    }
   ],
   "source": [
    "import numpy as np\n",
    "import matplotlib.pyplot as plt\n",
    "from scipy.stats import chisquare\n",
    "\n",
    "np.random.seed(237)\n",
    "\n",
    "# Values and probabilities\n",
    "X_values = np.array([1, 2, 3, 4, 5, 6])\n",
    "probs = np.array([7, 5, 6, 3, 12, 15]) / 48\n",
    "cdf = np.cumsum(probs)\n",
    "\n",
    "# Simulate using inverse transform\n",
    "n = 10000\n",
    "U = np.random.rand(n)\n",
    "samples = np.zeros(n)\n",
    "\n",
    "for i, u in enumerate(U):\n",
    "    samples[i] = X_values[np.searchsorted(cdf, u)]\n",
    "\n",
    "# Plot histogram\n",
    "plt.hist(samples, bins=np.arange(1, 8)-0.5, edgecolor='black', density=True, label='Simulated', alpha=0.6, color='navy')\n",
    "plt.xticks(X_values)\n",
    "plt.plot(X_values, probs, 'o-', label='Theoretical PMF',color='darkred', linewidth=1)\n",
    "plt.title('Direct method simulation of 6-point distribution')\n",
    "plt.xlabel('X')\n",
    "plt.ylabel('Probability')\n",
    "plt.legend()\n",
    "plt.show()\n",
    "\n",
    "# Chi-square test\n",
    "observed_counts = np.array([(samples == x).sum() for x in X_values])\n",
    "expected_counts = probs * n\n",
    "chi_stat, p_value = chisquare(f_obs=observed_counts, f_exp=expected_counts)\n",
    "\n",
    "# Output result\n",
    "print(\"Chi-square test:\")\n",
    "print(f\"Statistic = {chi_stat:.4f}\")\n",
    "print(f\"p-value   = {p_value:.4f}\")\n"
   ]
  },
  {
   "cell_type": "markdown",
   "id": "99f067e3",
   "metadata": {},
   "source": [
    "#### Øvelse 2b"
   ]
  },
  {
   "cell_type": "code",
   "execution_count": 3,
   "id": "d261d8e9",
   "metadata": {},
   "outputs": [
    {
     "data": {
      "image/png": "[encoded data removed]",
      "text/plain": [
       "<Figure size 640x480 with 1 Axes>"
      ]
     },
     "metadata": {},
     "output_type": "display_data"
    },
    {
     "name": "stdout",
     "output_type": "stream",
     "text": [
      "Chi-square test:\n",
      "Statistic = 4.2080\n",
      "p-value   = 0.5199\n"
     ]
    }
   ],
   "source": [
    "import numpy as np\n",
    "import matplotlib.pyplot as plt\n",
    "from scipy.stats import chisquare\n",
    "\n",
    "np.random.seed(237)\n",
    "\n",
    "# Target distribution\n",
    "X_values = np.array([1, 2, 3, 4, 5, 6])\n",
    "p = np.array([7, 5, 6, 3, 12, 15]) / 48\n",
    "q = np.ones(6) / 6\n",
    "c = max(p / q)  # = 1.875\n",
    "\n",
    "# Rejection sampling\n",
    "n_samples = 10000\n",
    "samples = []\n",
    "\n",
    "while len(samples) < n_samples:\n",
    "    x = np.random.randint(1, 7)  # Proposal from uniform 1-6\n",
    "    u = np.random.rand()\n",
    "    accept_prob = (p[x-1] / q[x-1]) / c\n",
    "    if u <= accept_prob:\n",
    "        samples.append(x)\n",
    "\n",
    "samples = np.array(samples)\n",
    "\n",
    "# Plot histogram\n",
    "plt.hist(samples, bins=np.arange(1, 8)-0.5, edgecolor='black', density=True, label='Simulated', alpha=0.6, color='navy')\n",
    "plt.xticks(X_values)\n",
    "plt.plot(X_values, p, 'o-', label='Theoretical PMF', color='darkred', linewidth=1)\n",
    "plt.title('Rejection method simulation of 6-point distribution')\n",
    "plt.xlabel('X')\n",
    "plt.ylabel('Probability')\n",
    "plt.legend()\n",
    "plt.show()\n",
    "\n",
    "# Chi-square test\n",
    "observed_counts = np.array([(samples == x).sum() for x in X_values])\n",
    "expected_counts = p * n_samples\n",
    "chi_stat, p_value = chisquare(f_obs=observed_counts, f_exp=expected_counts)\n",
    "\n",
    "print(\"Chi-square test:\")\n",
    "print(f\"Statistic = {chi_stat:.4f}\")\n",
    "print(f\"p-value   = {p_value:.4f}\")\n"
   ]
  },
  {
   "cell_type": "markdown",
   "id": "f40f2932",
   "metadata": {},
   "source": [
    "#### Øvelse 2c"
   ]
  },
  {
   "cell_type": "code",
   "execution_count": 4,
   "id": "7d88ebda",
   "metadata": {},
   "outputs": [
    {
     "data": {
      "image/png": "[encoded data removed]",
      "text/plain": [
       "<Figure size 640x480 with 1 Axes>"
      ]
     },
     "metadata": {},
     "output_type": "display_data"
    },
    {
     "name": "stdout",
     "output_type": "stream",
     "text": [
      "Chi-square test:\n",
      "Statistic = 6.2063\n",
      "p-value   = 0.2867\n"
     ]
    }
   ],
   "source": [
    "import numpy as np\n",
    "import matplotlib.pyplot as plt\n",
    "from scipy.stats import chisquare\n",
    "\n",
    "np.random.seed(237)\n",
    "\n",
    "# Original distribution\n",
    "X_values = np.array([1, 2, 3, 4, 5, 6])\n",
    "probs = np.array([7, 5, 6, 3, 12, 15]) / 48\n",
    "k = len(probs)\n",
    "\n",
    "# Step 1: Create alias tables\n",
    "F = probs * k  # Scaled probabilities\n",
    "L = np.arange(k)  # Initialize alias table\n",
    "\n",
    "# Work lists\n",
    "small = [i for i in range(k) if F[i] < 1]\n",
    "large = [i for i in range(k) if F[i] >= 1]\n",
    "\n",
    "while small and large:\n",
    "    s = small.pop()\n",
    "    l = large.pop()\n",
    "\n",
    "    L[s] = l\n",
    "    F[l] = F[l] - (1 - F[s])\n",
    "\n",
    "    if F[l] < 1:\n",
    "        small.append(l)\n",
    "    else:\n",
    "        large.append(l)\n",
    "\n",
    "# Step 2: Sampling function\n",
    "def alias_sample(n, F, L):\n",
    "    samples = np.zeros(n, dtype=int)\n",
    "    for i in range(n):\n",
    "        I = int(np.floor(k * np.random.rand()))\n",
    "        U = np.random.rand()\n",
    "        if U < F[I]:\n",
    "            samples[i] = I + 1\n",
    "        else:\n",
    "            samples[i] = L[I] + 1\n",
    "    return samples\n",
    "\n",
    "# Run simulation\n",
    "n_samples = 10000\n",
    "samples = alias_sample(n_samples, F, L)\n",
    "\n",
    "# Histogram and comparison\n",
    "plt.hist(samples, bins=np.arange(1, 8)-0.5, density=True, edgecolor='black', label='Simulated', alpha=0.6, color='navy')\n",
    "plt.plot(X_values, probs, 'o-', label='Theoretical PMF', color='darkred', linewidth=1)\n",
    "plt.xticks(X_values)\n",
    "plt.title('Alias method simulation of 6-point distribution')\n",
    "plt.xlabel('X')\n",
    "plt.ylabel('Probability')\n",
    "plt.legend()\n",
    "plt.show()\n",
    "\n",
    "# Chi-square test\n",
    "observed_counts = np.array([(samples == x).sum() for x in X_values])\n",
    "expected_counts = probs * n_samples\n",
    "chi_stat, p_val = chisquare(observed_counts, expected_counts)\n",
    "\n",
    "print(\"Chi-square test:\")\n",
    "print(f\"Statistic = {chi_stat:.4f}\")\n",
    "print(f\"p-value   = {p_val:.4f}\")\n"
   ]
  },
  {
   "cell_type": "markdown",
   "id": "c647a481",
   "metadata": {},
   "source": [
    "## Exercise 3"
   ]
  },
  {
   "cell_type": "markdown",
   "id": "54e4ceeb",
   "metadata": {},
   "source": [
    "#### Exercise 3.1"
   ]
  },
  {
   "cell_type": "markdown",
   "id": "7d4a8157",
   "metadata": {},
   "source": [
    "Generate simulated values from the following distributions\n",
    "\n",
    "A) Exponential distribution\n",
    "\n",
    "b) Normal distribution (at least with standard Box-Mueller)\n",
    "\n",
    "c) Pareto distribution, with β = 1 and experiment with different values of k values: k = 2.05, k = 2.5, k = 3 and k = 4.\n",
    "\n",
    "Verify the results by comparing histograms with analytical results and perform tests for distribution type."
   ]
  },
  {
   "cell_type": "code",
   "execution_count": 2,
   "id": "5964f0d8",
   "metadata": {},
   "outputs": [
    {
     "data": {
      "image/png": "[encoded data removed]",
      "text/plain": [
       "<Figure size 640x480 with 1 Axes>"
      ]
     },
     "metadata": {},
     "output_type": "display_data"
    },
    {
     "name": "stdout",
     "output_type": "stream",
     "text": [
      "Exponential KS test: D = 0.0039, p = 0.9979\n"
     ]
    },
    {
     "data": {
      "image/png": "[encoded data removed]",
      "text/plain": [
       "<Figure size 640x480 with 1 Axes>"
      ]
     },
     "metadata": {},
     "output_type": "display_data"
    },
    {
     "name": "stdout",
     "output_type": "stream",
     "text": [
      "Normal KS test: D = 0.0084, p = 0.4777\n"
     ]
    },
    {
     "data": {
      "image/png": "[encoded data removed]",
      "text/plain": [
       "<Figure size 640x480 with 1 Axes>"
      ]
     },
     "metadata": {},
     "output_type": "display_data"
    },
    {
     "name": "stdout",
     "output_type": "stream",
     "text": [
      "Pareto KS test (k=2.05): D = 0.0114, p = 0.1503\n"
     ]
    },
    {
     "data": {
      "image/png": "[encoded data removed]",
      "text/plain": [
       "<Figure size 640x480 with 1 Axes>"
      ]
     },
     "metadata": {},
     "output_type": "display_data"
    },
    {
     "name": "stdout",
     "output_type": "stream",
     "text": [
      "Pareto KS test (k=2.5): D = 0.0082, p = 0.5040\n"
     ]
    },
    {
     "data": {
      "image/png": "[encoded data removed]",
      "text/plain": [
       "<Figure size 640x480 with 1 Axes>"
      ]
     },
     "metadata": {},
     "output_type": "display_data"
    },
    {
     "name": "stdout",
     "output_type": "stream",
     "text": [
      "Pareto KS test (k=3): D = 0.0106, p = 0.2073\n"
     ]
    },
    {
     "data": {
      "image/png": "[encoded data removed]",
      "text/plain": [
       "<Figure size 640x480 with 1 Axes>"
      ]
     },
     "metadata": {},
     "output_type": "display_data"
    },
    {
     "name": "stdout",
     "output_type": "stream",
     "text": [
      "Pareto KS test (k=4): D = 0.0101, p = 0.2577\n"
     ]
    }
   ],
   "source": [
    "##### Histogram for all distributions #####\n",
    "\n",
    "import numpy as np\n",
    "import matplotlib.pyplot as plt\n",
    "from scipy.stats import expon, norm, pareto, kstest\n",
    "\n",
    "n = 10000\n",
    "x_vals = np.linspace(0, 10, 1000)\n",
    "\n",
    "### a) Exponential Distribution ###\n",
    "lam = 1\n",
    "exp_samples = np.random.exponential(scale=1/lam, size=n)\n",
    "\n",
    "# Histogram + analytical PDF\n",
    "plt.hist(exp_samples, bins=100, density=True, alpha=0.5, label='Exponential Samples')\n",
    "plt.plot(x_vals, expon.pdf(x_vals, scale=1/lam), 'r-', lw=2, label='Exponential PDF')\n",
    "plt.title(\"Exponential Distribution\")\n",
    "plt.xlabel(\"x\")\n",
    "plt.ylabel(\"Density\")\n",
    "plt.legend()\n",
    "plt.grid(True)\n",
    "plt.show()\n",
    "\n",
    "# KS test\n",
    "d_exp, p_exp = kstest(exp_samples, 'expon', args=(0, 1/lam))\n",
    "print(f\"Exponential KS test: D = {d_exp:.4f}, p = {p_exp:.4f}\")\n",
    "\n",
    "\n",
    "### b) Normal Distribution ###\n",
    "import numpy as np\n",
    "\n",
    "def simulate_normal_box_muller(n):\n",
    "    u1 = np.random.uniform(0, 1, n // 2)\n",
    "    u2 = np.random.uniform(0, 1, n // 2)\n",
    "    \n",
    "    r = np.sqrt(-2 * np.log(u1))\n",
    "    theta = 2 * np.pi * u2\n",
    "    \n",
    "    z1 = r * np.cos(theta)\n",
    "    z2 = r * np.sin(theta)\n",
    "    \n",
    "    samples = np.concatenate([z1, z2])\n",
    "    \n",
    "    if n % 2 == 1:\n",
    "        # Generate one more if n is odd\n",
    "        u1_extra = np.random.uniform(0, 1)\n",
    "        u2_extra = np.random.uniform(0, 1)\n",
    "        extra = np.sqrt(-2 * np.log(u1_extra)) * np.cos(2 * np.pi * u2_extra)\n",
    "        samples = np.append(samples, extra)\n",
    "    \n",
    "    return samples\n",
    "\n",
    "# Simulate 10,000 standard normal samples\n",
    "norm_samples = simulate_normal_box_muller(10000)\n",
    "\n",
    "\n",
    "# Histogram + analytical PDF\n",
    "x_vals_n = np.linspace(-4, 4, 1000)\n",
    "plt.hist(norm_samples, bins=100, density=True, alpha=0.5, label='Normal Samples')\n",
    "plt.plot(x_vals_n, norm.pdf(x_vals_n, loc=0, scale=1), 'r-', lw=2, label='Normal PDF')\n",
    "plt.title(\"Normal Distribution\")\n",
    "plt.xlabel(\"x\")\n",
    "plt.ylabel(\"Density\")\n",
    "plt.legend()\n",
    "plt.grid(True)\n",
    "plt.show()\n",
    "\n",
    "# KS test\n",
    "d_norm, p_norm = kstest(norm_samples, 'norm', args=(0, 1))\n",
    "print(f\"Normal KS test: D = {d_norm:.4f}, p = {p_norm:.4f}\")\n",
    "\n",
    "\n",
    "### c) Pareto Distribution (for multiple k values) ###\n",
    "k_values = [2.05, 2.5, 3, 4]\n",
    "beta = 1.0\n",
    "x_vals_p = np.linspace(1, 10, 1000)\n",
    "\n",
    "for k in k_values:\n",
    "    pareto_samples = beta * (np.random.uniform(0, 1, n) ** (-1 / k))\n",
    "    \n",
    "    # Histogram + analytical PDF\n",
    "    plt.hist(pareto_samples, bins=100, density=True, alpha=0.5, label=f'Samples (k={k})')\n",
    "    plt.plot(x_vals_p, pareto.pdf(x_vals_p, b=k, loc=0, scale=beta), 'r-', lw=2, label=f'Pareto PDF (k={k})')\n",
    "    plt.title(f\"Pareto Distribution (k={k})\")\n",
    "    plt.xlabel(\"x\")\n",
    "    plt.ylabel(\"Density\")\n",
    "    plt.legend()\n",
    "    plt.grid(True)\n",
    "    plt.xlim(1, 10)\n",
    "    plt.show()\n",
    "    \n",
    "    # KS test\n",
    "    d_pareto, p_pareto = kstest(pareto_samples, 'pareto', args=(k, 0, beta))\n",
    "    print(f\"Pareto KS test (k={k}): D = {d_pareto:.4f}, p = {p_pareto:.4f}\")\n",
    "\n"
   ]
  },
  {
   "cell_type": "markdown",
   "id": "03835417",
   "metadata": {},
   "source": [
    "#### 3.2) Pareto Distribution – Compare Mean and Variance\n",
    "\n",
    "For the Pareto distribution with support on \\([ \\beta, \\infty [\\), compare the **mean** and **variance** of simulated samples with the analytical expressions. The analytical expressions are:\n",
    "\n",
    "- **Expected value** (mean), for \\( k > 1 \\):\n",
    "\n",
    "$\\mathbb{E}(X) = \\frac{\\beta k}{k - 1}$\n",
    "\n",
    "- **Variance**, for \\( k > 2 \\):\n",
    "\n",
    "$\n",
    "\\text{Var}(X) = \\frac{\\beta^2 k}{(k - 1)^2 (k - 2)}\n",
    "$\n",
    "\n",
    "### Task:\n",
    "- Simulate samples using NumPy’s Pareto generator\n",
    "- Compute empirical mean and variance\n",
    "- Compare with analytical results for several values of \\( k \\in \\{2.05,\\ 2.5,\\ 3,\\ 4\\} \\)\n",
    "- Explain any problems that occur (e.g. infinite variance or unstable estimates)\n"
   ]
  },
  {
   "cell_type": "code",
   "execution_count": 3,
   "id": "6ed8c752",
   "metadata": {},
   "outputs": [
    {
     "name": "stdout",
     "output_type": "stream",
     "text": [
      "\n",
      "Pareto(k=2.05):\n",
      "  Empirical mean      = 1.9591\n",
      "  Theoretical mean    = 1.9524\n",
      "  Empirical variance  = 5.5221\n",
      "  Theoretical variance= 37.1882\n",
      "\n",
      "Pareto(k=2.5):\n",
      "  Empirical mean      = 1.6624\n",
      "  Theoretical mean    = 1.6667\n",
      "  Empirical variance  = 1.5831\n",
      "  Theoretical variance= 2.2222\n",
      "\n",
      "Pareto(k=3):\n",
      "  Empirical mean      = 1.4932\n",
      "  Theoretical mean    = 1.5000\n",
      "  Empirical variance  = 0.7057\n",
      "  Theoretical variance= 0.7500\n",
      "\n",
      "Pareto(k=4):\n",
      "  Empirical mean      = 1.3285\n",
      "  Theoretical mean    = 1.3333\n",
      "  Empirical variance  = 0.2280\n",
      "  Theoretical variance= 0.2222\n"
     ]
    }
   ],
   "source": [
    "import numpy as np\n",
    "\n",
    "def pareto_theoretical_mean_var(beta, k):\n",
    "    mean = np.inf if k <= 1 else beta * k / (k - 1)\n",
    "    var = np.inf if k <= 2 else (beta**2 * k) / ((k - 1)**2 * (k - 2))\n",
    "    return mean, var\n",
    "\n",
    "def simulate_and_compare(k_values, beta=1.0, n=10000):\n",
    "    for k in k_values:\n",
    "        samples = beta * (np.random.pareto(k, n) + 1)\n",
    "        empirical_mean = np.mean(samples)\n",
    "        empirical_var = np.var(samples)\n",
    "\n",
    "        mean_theory, var_theory = pareto_theoretical_mean_var(beta, k)\n",
    "\n",
    "        print(f\"\\nPareto(k={k}):\")\n",
    "        print(f\"  Empirical mean      = {empirical_mean:.4f}\")\n",
    "        print(f\"  Theoretical mean    = {mean_theory:.4f}\")\n",
    "        print(f\"  Empirical variance  = {empirical_var:.4f}\")\n",
    "        print(f\"  Theoretical variance= {var_theory:.4f}\")\n",
    "\n",
    "# Run the comparison\n",
    "k_values = [2.05, 2.5, 3, 4]\n",
    "simulate_and_compare(k_values)\n"
   ]
  },
  {
   "cell_type": "markdown",
   "id": "36b0d7ac",
   "metadata": {},
   "source": [
    "#### 3.3) For the normal distribution generate 100 95% confidence intervals for the mean and variance, each based on 10 observations. Discuss the results."
   ]
  },
  {
   "cell_type": "code",
   "execution_count": 33,
   "id": "394b9c6c",
   "metadata": {},
   "outputs": [
    {
     "name": "stdout",
     "output_type": "stream",
     "text": [
      "Mean: 96/100 intervals contained μ = 0\n",
      "Variance: 93/100 intervals contained σ² = 1\n"
     ]
    }
   ],
   "source": [
    "import numpy as np\n",
    "from scipy.stats import t, chi2\n",
    "\n",
    "# Settings\n",
    "seed = 42\n",
    "np.random.seed(seed)\n",
    "n_intervals = 100\n",
    "sample_size = 10\n",
    "mu_true = 0\n",
    "sigma2_true = 1\n",
    "\n",
    "mean_contains = 0\n",
    "var_contains = 0\n",
    "\n",
    "mean_intervals = []\n",
    "var_intervals = []\n",
    "\n",
    "\n",
    "\n",
    "for _ in range(n_intervals):\n",
    "    sample = simulate_normal_box_muller(sample_size)\n",
    "    # Calculate sample mean and unbiased variance\n",
    "    x_bar = np.mean(sample)\n",
    "    s2 = np.var(sample, ddof=1)  # unbiased variance\n",
    "\n",
    "    # 95% CI for mean using t-distribution\n",
    "    t_crit = t.ppf(0.975, df=sample_size - 1)\n",
    "    se = np.sqrt(s2 / sample_size)\n",
    "    mean_ci = (x_bar - t_crit * se, x_bar + t_crit * se)\n",
    "    mean_contains += mean_ci[0] <= mu_true <= mean_ci[1]\n",
    "    mean_intervals.append(mean_ci)\n",
    "\n",
    "    # 95% CI for variance using chi-squared distribution\n",
    "    chi2_lower = chi2.ppf(0.025, df=sample_size - 1)\n",
    "    chi2_upper = chi2.ppf(0.975, df=sample_size - 1)\n",
    "    var_ci = ((sample_size - 1) * s2 / chi2_upper, (sample_size - 1) * s2 / chi2_lower)\n",
    "    var_contains += var_ci[0] <= sigma2_true <= var_ci[1]\n",
    "    var_intervals.append(var_ci)\n",
    "\n",
    "print(f\"Mean: {mean_contains}/100 intervals contained μ = {mu_true}\")\n",
    "print(f\"Variance: {var_contains}/100 intervals contained σ² = {sigma2_true}\")\n"
   ]
  },
  {
   "cell_type": "markdown",
   "id": "0c401902",
   "metadata": {},
   "source": [
    "#### 3.4) Simulate from the Pareto distribution using composition."
   ]
  },
  {
   "cell_type": "code",
   "execution_count": 52,
   "id": "235422ee",
   "metadata": {},
   "outputs": [
    {
     "data": {
      "image/png": "[encoded data removed]",
      "text/plain": [
       "<Figure size 700x400 with 1 Axes>"
      ]
     },
     "metadata": {},
     "output_type": "display_data"
    }
   ],
   "source": [
    "import numpy as np\n",
    "import matplotlib.pyplot as plt\n",
    "\n",
    "np.random.seed(23798)\n",
    "\n",
    "def pareto_composition(n, k=2.5, beta=1.0):\n",
    "    u = np.random.uniform(0, 1, n)\n",
    "    return beta * (u ** (-1 / k))\n",
    "\n",
    "# Simulate samples\n",
    "n = 10000\n",
    "samples = pareto_composition(n, k=2.5, beta=1.0)\n",
    "\n",
    "# Plot histogram and analytical PDF with subplots\n",
    "x_vals = x_vals_p  # Use the already defined x_vals_p for consistency\n",
    "\n",
    "plt.figure(figsize=(7, 4))\n",
    "plt.hist(samples, bins=100, density=True, alpha=0.6, label='Simulated')\n",
    "plt.plot(x_vals, (2.5 * 1.0**2.5) / (x_vals ** (2.5 + 1)) * (x_vals >= 1.0), label='Analytical PDF', linewidth=2)\n",
    "plt.title('Pareto Distribution (composition method)')\n",
    "plt.xlabel('x')\n",
    "plt.ylabel('Density')\n",
    "plt.xlim(1, 5)\n",
    "plt.legend()\n",
    "plt.grid(True)\n",
    "plt.show()\n"
   ]
  },
  {
   "cell_type": "markdown",
   "id": "13ca5b8a",
   "metadata": {},
   "source": [
    "## Exercise 4"
   ]
  },
  {
   "cell_type": "markdown",
   "id": "2ee36aac",
   "metadata": {},
   "source": [
    "#### Øvelse 1"
   ]
  },
  {
   "cell_type": "code",
   "execution_count": 5,
   "id": "ad555558",
   "metadata": {},
   "outputs": [
    {
     "name": "stdout",
     "output_type": "stream",
     "text": [
      "Estimated blocking probability: 0.1200\n",
      "95% CI: [0.1159, 0.1241]\n"
     ]
    }
   ],
   "source": [
    "import numpy as np\n",
    "import heapq\n",
    "from scipy.stats import norm\n",
    "import math\n",
    "\n",
    "np.random.seed(237)\n",
    "\n",
    "# Parameters\n",
    "m = 10\n",
    "mean_service = 8\n",
    "mean_interarrival = 1\n",
    "num_customers = 10000\n",
    "batches = 10\n",
    "\n",
    "def simulate_batch():\n",
    "    clock = 0\n",
    "    busy_servers = 0\n",
    "    blocked = 0\n",
    "    event_list = []\n",
    "\n",
    "    # Generate first arrival\n",
    "    heapq.heappush(event_list, (np.random.exponential(mean_interarrival), 'arrival'))\n",
    "\n",
    "    for _ in range(num_customers):\n",
    "        while event_list:\n",
    "            time, event = heapq.heappop(event_list)\n",
    "            clock = time\n",
    "\n",
    "            if event == 'arrival':\n",
    "                if busy_servers < m:\n",
    "                    busy_servers += 1\n",
    "                    # schedule departure\n",
    "                    service_time = np.random.exponential(mean_service)\n",
    "                    heapq.heappush(event_list, (clock + service_time, 'departure'))\n",
    "                else:\n",
    "                    blocked += 1\n",
    "                # schedule next arrival\n",
    "                heapq.heappush(event_list, (clock + np.random.exponential(mean_interarrival), 'arrival'))\n",
    "                break\n",
    "            elif event == 'departure':\n",
    "                busy_servers -= 1\n",
    "\n",
    "    return blocked / num_customers\n",
    "\n",
    "# Run simulation over batches\n",
    "fractions = [simulate_batch() for _ in range(batches)]\n",
    "mean_block = np.mean(fractions)\n",
    "std_block = np.std(fractions, ddof=1)\n",
    "conf_level = 0.95\n",
    "t_value = norm.ppf(1 - (1 - conf_level) / 2)\n",
    "ci_half_width = t_value * std_block / np.sqrt(batches)\n",
    "\n",
    "print(f\"Estimated blocking probability: {mean_block:.4f}\")\n",
    "print(f\"{int(conf_level*100)}% CI: [{mean_block - ci_half_width:.4f}, {mean_block + ci_half_width:.4f}]\")\n"
   ]
  },
  {
   "cell_type": "markdown",
   "id": "9a662ef1",
   "metadata": {},
   "source": [
    "#### Erlang B theory"
   ]
  },
  {
   "cell_type": "code",
   "execution_count": 6,
   "id": "2bc67ce3",
   "metadata": {},
   "outputs": [
    {
     "name": "stdout",
     "output_type": "stream",
     "text": [
      "Erlang B (exact): 0.1217\n"
     ]
    }
   ],
   "source": [
    "from math import factorial\n",
    "\n",
    "def erlang_b(m, A):\n",
    "    numerator = A**m / factorial(m)\n",
    "    denominator = sum((A**k) / factorial(k) for k in range(m + 1))\n",
    "    return numerator / denominator\n",
    "\n",
    "print(f\"Erlang B (exact): {erlang_b(10, 8):.4f}\")"
   ]
  },
  {
   "cell_type": "markdown",
   "id": "3899a704",
   "metadata": {},
   "source": [
    "#### Øvelse 2a"
   ]
  },
  {
   "cell_type": "code",
   "execution_count": 7,
   "id": "e8ded4d7",
   "metadata": {},
   "outputs": [
    {
     "name": "stdout",
     "output_type": "stream",
     "text": [
      "Erlang Interarrival (k=2)\n",
      "Estimated blocking probability: 0.0937\n",
      "95% CI: [0.0917, 0.0958]\n"
     ]
    }
   ],
   "source": [
    "import numpy as np\n",
    "import heapq\n",
    "from scipy.stats import norm\n",
    "\n",
    "np.random.seed(237)\n",
    "\n",
    "# Parameters\n",
    "m = 10  # number of servers\n",
    "mean_service = 8\n",
    "num_customers = 10000\n",
    "batches = 10\n",
    "shape_k = 2  # Erlang shape parameter\n",
    "lambda_erlang = shape_k  # to keep mean = 1\n",
    "\n",
    "def erlang_arrival(mean=1):\n",
    "    \"\"\"Generate one Erlang(k, lambda) arrival time\"\"\"\n",
    "    return np.sum(np.random.exponential(1 / lambda_erlang, shape_k))\n",
    "\n",
    "def simulate_batch_erlang():\n",
    "    clock = 0\n",
    "    busy_servers = 0\n",
    "    blocked = 0\n",
    "    event_list = []\n",
    "\n",
    "    # First arrival\n",
    "    heapq.heappush(event_list, (erlang_arrival(), 'arrival'))\n",
    "\n",
    "    for _ in range(num_customers):\n",
    "        while event_list:\n",
    "            time, event = heapq.heappop(event_list)\n",
    "            clock = time\n",
    "\n",
    "            if event == 'arrival':\n",
    "                if busy_servers < m:\n",
    "                    busy_servers += 1\n",
    "                    service_time = np.random.exponential(mean_service)\n",
    "                    heapq.heappush(event_list, (clock + service_time, 'departure'))\n",
    "                else:\n",
    "                    blocked += 1\n",
    "                heapq.heappush(event_list, (clock + erlang_arrival(), 'arrival'))\n",
    "                break\n",
    "            elif event == 'departure':\n",
    "                busy_servers -= 1\n",
    "\n",
    "    return blocked / num_customers\n",
    "\n",
    "# Run simulation in batches\n",
    "fractions = [simulate_batch_erlang() for _ in range(batches)]\n",
    "mean_block = np.mean(fractions)\n",
    "std_block = np.std(fractions, ddof=1)\n",
    "t_value = norm.ppf(0.975)\n",
    "ci_half_width = t_value * std_block / np.sqrt(batches)\n",
    "\n",
    "print(f\"Erlang Interarrival (k={shape_k})\")\n",
    "print(f\"Estimated blocking probability: {mean_block:.4f}\")\n",
    "print(f\"95% CI: [{mean_block - ci_half_width:.4f}, {mean_block + ci_half_width:.4f}]\")\n"
   ]
  },
  {
   "cell_type": "markdown",
   "id": "fa18cf03",
   "metadata": {},
   "source": [
    "#### Øvelse 2b"
   ]
  },
  {
   "cell_type": "code",
   "execution_count": 8,
   "id": "0becd5d2",
   "metadata": {},
   "outputs": [
    {
     "name": "stdout",
     "output_type": "stream",
     "text": [
      "Hyper-exponential Interarrival\n",
      "Estimated blocking probability: 0.1394\n",
      "95% CI: [0.1356, 0.1432]\n"
     ]
    }
   ],
   "source": [
    "import numpy as np\n",
    "import heapq\n",
    "from scipy.stats import norm\n",
    "\n",
    "np.random.seed(237)\n",
    "\n",
    "# Parameters\n",
    "m = 10\n",
    "mean_service = 8\n",
    "num_customers = 10000\n",
    "batches = 10\n",
    "\n",
    "# Hyper-exponential parameters\n",
    "p1, lambda1 = 0.8, 0.8333\n",
    "p2, lambda2 = 0.2, 5.0\n",
    "\n",
    "def hyper_exponential_arrival():\n",
    "    \"\"\"Generate one hyper-exponential inter-arrival time\"\"\"\n",
    "    if np.random.rand() < p1:\n",
    "        return np.random.exponential(1 / lambda1)\n",
    "    else:\n",
    "        return np.random.exponential(1 / lambda2)\n",
    "\n",
    "def simulate_batch_hyperexp():\n",
    "    clock = 0\n",
    "    busy_servers = 0\n",
    "    blocked = 0\n",
    "    event_list = []\n",
    "\n",
    "    heapq.heappush(event_list, (hyper_exponential_arrival(), 'arrival'))\n",
    "\n",
    "    for _ in range(num_customers):\n",
    "        while event_list:\n",
    "            time, event = heapq.heappop(event_list)\n",
    "            clock = time\n",
    "\n",
    "            if event == 'arrival':\n",
    "                if busy_servers < m:\n",
    "                    busy_servers += 1\n",
    "                    service_time = np.random.exponential(mean_service)\n",
    "                    heapq.heappush(event_list, (clock + service_time, 'departure'))\n",
    "                else:\n",
    "                    blocked += 1\n",
    "                heapq.heappush(event_list, (clock + hyper_exponential_arrival(), 'arrival'))\n",
    "                break\n",
    "            elif event == 'departure':\n",
    "                busy_servers -= 1\n",
    "\n",
    "    return blocked / num_customers\n",
    "\n",
    "# Run simulation in batches\n",
    "fractions = [simulate_batch_hyperexp() for _ in range(batches)]\n",
    "mean_block = np.mean(fractions)\n",
    "std_block = np.std(fractions, ddof=1)\n",
    "t_value = norm.ppf(0.975)\n",
    "ci_half_width = t_value * std_block / np.sqrt(batches)\n",
    "\n",
    "print(\"Hyper-exponential Interarrival\")\n",
    "print(f\"Estimated blocking probability: {mean_block:.4f}\")\n",
    "print(f\"95% CI: [{mean_block - ci_half_width:.4f}, {mean_block + ci_half_width:.4f}]\")\n"
   ]
  },
  {
   "cell_type": "markdown",
   "id": "d8854820",
   "metadata": {},
   "source": [
    "#### Øvelse 3"
   ]
  },
  {
   "cell_type": "markdown",
   "id": "02583f86",
   "metadata": {},
   "source": []
  },
  {
   "cell_type": "code",
   "execution_count": 9,
   "id": "5503843f",
   "metadata": {},
   "outputs": [
    {
     "name": "stdout",
     "output_type": "stream",
     "text": [
      "Constant service time\n",
      "Estimated blocking probability: 0.1211\n",
      "95% CI: [0.1170, 0.1252]\n",
      "\n",
      "Pareto service time (k=1.05)\n",
      "Estimated blocking probability: 0.0026\n",
      "95% CI: [0.0008, 0.0043]\n",
      "\n",
      "Pareto service time (k=2.05)\n",
      "Estimated blocking probability: 0.1234\n",
      "95% CI: [0.1188, 0.1280]\n",
      "\n",
      "Lognormal service time (sigma=0.6)\n",
      "Estimated blocking probability: 0.1203\n",
      "95% CI: [0.1176, 0.1231]\n",
      "\n"
     ]
    }
   ],
   "source": [
    "import numpy as np\n",
    "import heapq\n",
    "from scipy.stats import norm\n",
    "\n",
    "np.random.seed(237)\n",
    "\n",
    "# Constants\n",
    "m = 10\n",
    "mean_service = 8\n",
    "num_customers = 10000\n",
    "batches = 10\n",
    "\n",
    "def exponential_arrival():\n",
    "    return np.random.exponential(1)\n",
    "\n",
    "def constant_service():\n",
    "    return mean_service\n",
    "\n",
    "def pareto_service(k):\n",
    "    xm = mean_service * (k - 1) / k  # To get E[X] = mean_service\n",
    "    return (np.random.pareto(k) + 1) * xm\n",
    "\n",
    "# Compute mu for given sigma\n",
    "sigma_logn = 0.6\n",
    "mu_logn = np.log(mean_service) - 0.5 * sigma_logn**2\n",
    "\n",
    "def lognormal_service():\n",
    "    return np.random.lognormal(mean=mu_logn, sigma=sigma_logn)\n",
    "\n",
    "def simulate_batch(service_sampler):\n",
    "    clock = 0\n",
    "    busy_servers = 0\n",
    "    blocked = 0\n",
    "    event_list = []\n",
    "\n",
    "    heapq.heappush(event_list, (exponential_arrival(), 'arrival'))\n",
    "\n",
    "    for _ in range(num_customers):\n",
    "        while event_list:\n",
    "            time, event = heapq.heappop(event_list)\n",
    "            clock = time\n",
    "\n",
    "            if event == 'arrival':\n",
    "                if busy_servers < m:\n",
    "                    busy_servers += 1\n",
    "                    service_time = service_sampler()\n",
    "                    heapq.heappush(event_list, (clock + service_time, 'departure'))\n",
    "                else:\n",
    "                    blocked += 1\n",
    "                heapq.heappush(event_list, (clock + exponential_arrival(), 'arrival'))\n",
    "                break\n",
    "            elif event == 'departure':\n",
    "                busy_servers -= 1\n",
    "\n",
    "    return blocked / num_customers\n",
    "\n",
    "def simulate_all(service_sampler, label):\n",
    "    fractions = [simulate_batch(service_sampler) for _ in range(batches)]\n",
    "    mean_block = np.mean(fractions)\n",
    "    std_block = np.std(fractions, ddof=1)\n",
    "    t_value = norm.ppf(0.975)\n",
    "    ci_half_width = t_value * std_block / np.sqrt(batches)\n",
    "    print(f\"{label}\")\n",
    "    print(f\"Estimated blocking probability: {mean_block:.4f}\")\n",
    "    print(f\"95% CI: [{mean_block - ci_half_width:.4f}, {mean_block + ci_half_width:.4f}]\")\n",
    "    print()\n",
    "\n",
    "# Run simulations\n",
    "simulate_all(constant_service, \"Constant service time\")\n",
    "simulate_all(lambda: pareto_service(1.05), \"Pareto service time (k=1.05)\")\n",
    "simulate_all(lambda: pareto_service(2.05), \"Pareto service time (k=2.05)\")\n",
    "simulate_all(lambda: lognormal_service(), \"Lognormal service time (sigma=0.6)\")\n",
    "\n"
   ]
  },
  {
   "cell_type": "markdown",
   "id": "65a2b1c7",
   "metadata": {},
   "source": [
    "## Exercise 5"
   ]
  },
  {
   "cell_type": "markdown",
   "id": "9c9dc7c4",
   "metadata": {},
   "source": [
    "**Variance Reduction Methods**"
   ]
  },
  {
   "cell_type": "markdown",
   "id": "f405183d",
   "metadata": {},
   "source": [
    "1. **Estimate the integral**  \n",
    "   $ \\int_0^1 e^x \\, dx $  \n",
    "   by simulation (the crude Monte Carlo estimator).  \n",
    "   Use an estimator based on 100 samples and present the result as both a point estimator and a confidence interval.\n",
    "\n"
   ]
  },
  {
   "cell_type": "code",
   "execution_count": 5,
   "id": "8ea5698e",
   "metadata": {},
   "outputs": [
    {
     "name": "stdout",
     "output_type": "stream",
     "text": [
      "Crude Monte Carlo estimate: 1.67206\n",
      "95% CI: (1.57404, 1.77009)\n",
      "True value: 1.71828\n"
     ]
    }
   ],
   "source": [
    "import numpy as np\n",
    "from scipy.stats import norm\n",
    "\n",
    "# Settings\n",
    "n = 100\n",
    "seed = 42\n",
    "np.random.seed(seed)\n",
    "alpha = 0.05\n",
    "z = norm.ppf(1 - alpha/2)\n",
    "\n",
    "# Crude Monte Carlo estimation\n",
    "x = np.random.uniform(0, 1, n)\n",
    "fx = np.exp(x)\n",
    "estimate = np.mean(fx)\n",
    "std_error = np.std(fx, ddof=1) / np.sqrt(n)\n",
    "\n",
    "# Confidence interval\n",
    "ci_lower = estimate - z * std_error\n",
    "ci_upper = estimate + z * std_error\n",
    "\n",
    "# True value (for reference)\n",
    "true_value = np.exp(1) - 1\n",
    "\n",
    "# Print results\n",
    "print(f\"Crude Monte Carlo estimate: {estimate:.5f}\")\n",
    "print(f\"95% CI: ({ci_lower:.5f}, {ci_upper:.5f})\")\n",
    "print(f\"True value: {true_value:.5f}\")\n"
   ]
  },
  {
   "cell_type": "markdown",
   "id": "f28974c4",
   "metadata": {},
   "source": [
    "2. **Estimate the integral**  \n",
    "   $ \\int_0^1 e^x \\, dx $  \n",
    "   using **antithetic variables**, with comparable computational resources.\n",
    "\n"
   ]
  },
  {
   "cell_type": "code",
   "execution_count": 7,
   "id": "a6b91868",
   "metadata": {},
   "outputs": [
    {
     "name": "stdout",
     "output_type": "stream",
     "text": [
      "Antithetic estimate: 1.71943\n",
      "95% CI: (1.70197, 1.73689)\n",
      "True value: 1.71828\n"
     ]
    }
   ],
   "source": [
    "import numpy as np\n",
    "from scipy.stats import norm\n",
    "\n",
    "# Settings\n",
    "seed = 42\n",
    "np.random.seed(seed)\n",
    "n = 50  # 50 pairs → 100 function evaluations\n",
    "alpha = 0.05\n",
    "z = norm.ppf(1 - alpha/2)\n",
    "\n",
    "# Antithetic sampling\n",
    "u = np.random.uniform(0, 1, n)\n",
    "antithetic = 0.5 * (np.exp(u) + np.exp(1 - u))\n",
    "\n",
    "# Estimate and confidence interval\n",
    "estimate = np.mean(antithetic)\n",
    "std_error = np.std(antithetic, ddof=1) / np.sqrt(n)\n",
    "ci_lower = estimate - z * std_error\n",
    "ci_upper = estimate + z * std_error\n",
    "\n",
    "# True value\n",
    "true_value = np.exp(1) - 1\n",
    "\n",
    "# Print results\n",
    "print(f\"Antithetic estimate: {estimate:.5f}\")\n",
    "print(f\"95% CI: ({ci_lower:.5f}, {ci_upper:.5f})\")\n",
    "print(f\"True value: {true_value:.5f}\")\n"
   ]
  },
  {
   "cell_type": "markdown",
   "id": "b7f040ad",
   "metadata": {},
   "source": [
    "3. **Estimate the integral**  \n",
    "   $ \\int_0^1 e^x \\, dx $  \n",
    "   using a **control variable**, with comparable computational resources.\n",
    "\n"
   ]
  },
  {
   "cell_type": "code",
   "execution_count": 8,
   "id": "7724a3b2",
   "metadata": {},
   "outputs": [
    {
     "name": "stdout",
     "output_type": "stream",
     "text": [
      "Control variate estimate: 1.72180\n",
      "95% CI: (1.70963, 1.73398)\n",
      "True value: 1.71828\n"
     ]
    }
   ],
   "source": [
    "import numpy as np\n",
    "from scipy.stats import norm\n",
    "\n",
    "# Settings\n",
    "seed = 42\n",
    "np.random.seed(seed)\n",
    "n = 100\n",
    "alpha = 0.05\n",
    "z = norm.ppf(1 - alpha / 2)\n",
    "\n",
    "# Generate data\n",
    "x = np.random.uniform(0, 1, n)\n",
    "y = np.exp(x)\n",
    "g = x\n",
    "mu_g = 0.5\n",
    "\n",
    "# Estimate optimal c from sample\n",
    "cov_y_g = np.cov(y, g, ddof=1)[0, 1]\n",
    "var_g = np.var(g, ddof=1)\n",
    "c_opt = cov_y_g / var_g\n",
    "\n",
    "# Apply control variate correction\n",
    "adjusted_y = y - c_opt * (g - mu_g)\n",
    "\n",
    "# Estimate and confidence interval\n",
    "estimate = np.mean(adjusted_y)\n",
    "std_error = np.std(adjusted_y, ddof=1) / np.sqrt(n)\n",
    "ci_lower = estimate - z * std_error\n",
    "ci_upper = estimate + z * std_error\n",
    "\n",
    "# True value\n",
    "true_value = np.exp(1) - 1\n",
    "\n",
    "# Print results\n",
    "print(f\"Control variate estimate: {estimate:.5f}\")\n",
    "print(f\"95% CI: ({ci_lower:.5f}, {ci_upper:.5f})\")\n",
    "print(f\"True value: {true_value:.5f}\")\n"
   ]
  },
  {
   "cell_type": "markdown",
   "id": "ebea99df",
   "metadata": {},
   "source": [
    "4. **Estimate the integral**  \n",
    "   $ \\int_0^1 e^x \\, dx $  \n",
    "   using **stratified sampling**, with comparable computational resources.\n",
    "\n"
   ]
  },
  {
   "cell_type": "code",
   "execution_count": 10,
   "id": "805eda6a",
   "metadata": {},
   "outputs": [
    {
     "name": "stdout",
     "output_type": "stream",
     "text": [
      "Stratified sampling estimate: 1.71779\n",
      "95% CI: (1.62091, 1.81468)\n",
      "True value: 1.71828\n"
     ]
    }
   ],
   "source": [
    "import numpy as np\n",
    "from scipy.stats import norm\n",
    "\n",
    "# Settings\n",
    "seed = 42\n",
    "np.random.seed(seed)\n",
    "m = 100  # number of strata = number of samples\n",
    "alpha = 0.05\n",
    "z = norm.ppf(1 - alpha/2)\n",
    "\n",
    "# Stratified sampling\n",
    "samples = np.array([\n",
    "    np.random.uniform(i/m, (i+1)/m) for i in range(m)\n",
    "])\n",
    "fx = np.exp(samples)\n",
    "\n",
    "# Estimate and CI\n",
    "estimate = np.mean(fx)\n",
    "std_error = np.std(fx, ddof=1) / np.sqrt(m)\n",
    "ci_lower = estimate - z * std_error\n",
    "ci_upper = estimate + z * std_error\n",
    "\n",
    "# True value\n",
    "true_value = np.exp(1) - 1\n",
    "\n",
    "# Print results\n",
    "print(f\"Stratified sampling estimate: {estimate:.5f}\")\n",
    "print(f\"95% CI: ({ci_lower:.5f}, {ci_upper:.5f})\")\n",
    "print(f\"True value: {true_value:.5f}\")\n"
   ]
  },
  {
   "cell_type": "markdown",
   "id": "c4c3e32b",
   "metadata": {},
   "source": [
    "5. **Use control variates** to reduce the variance of the estimator in Exercise 4 (Poisson arrivals).\n",
    "\n"
   ]
  },
  {
   "cell_type": "code",
   "execution_count": 3,
   "id": "709fe780",
   "metadata": {},
   "outputs": [
    {
     "name": "stdout",
     "output_type": "stream",
     "text": [
      "Naive estimate: 0.12002 ± 0.00410\n",
      "CV estimate   : 0.12002 ± 0.00000\n",
      "95% CI (naive): [0.11592, 0.12412]\n",
      "95% CI (CV)   : [0.12002, 0.12002]\n"
     ]
    }
   ],
   "source": [
    "import numpy as np\n",
    "import heapq\n",
    "from scipy.stats import norm\n",
    "\n",
    "np.random.seed(237)\n",
    "\n",
    "# Parameters\n",
    "m = 10\n",
    "mean_service = 8\n",
    "mean_interarrival = 1\n",
    "num_customers = 10000\n",
    "batches = 10\n",
    "\n",
    "# Storage\n",
    "blocks = []\n",
    "controls = []\n",
    "\n",
    "def simulate_batch():\n",
    "    clock = 0\n",
    "    busy_servers = 0\n",
    "    blocked = 0\n",
    "    control_stat = 0\n",
    "    event_list = []\n",
    "\n",
    "    # First arrival\n",
    "    heapq.heappush(event_list, (np.random.exponential(mean_interarrival), 'arrival'))\n",
    "\n",
    "    for _ in range(num_customers):\n",
    "        while event_list:\n",
    "            time, event = heapq.heappop(event_list)\n",
    "            clock = time\n",
    "\n",
    "            if event == 'arrival':\n",
    "                if busy_servers < m:\n",
    "                    busy_servers += 1\n",
    "                    service_time = np.random.exponential(mean_service)\n",
    "                    heapq.heappush(event_list, (clock + service_time, 'departure'))\n",
    "                else:\n",
    "                    blocked += 1\n",
    "                    control_stat += 1  # add to control variable\n",
    "                heapq.heappush(event_list, (clock + np.random.exponential(mean_interarrival), 'arrival'))\n",
    "                break\n",
    "            elif event == 'departure':\n",
    "                busy_servers -= 1\n",
    "\n",
    "    blocks.append(blocked / num_customers)\n",
    "    controls.append(control_stat / num_customers)  # normalize for consistency\n",
    "\n",
    "# Run batches\n",
    "for _ in range(batches):\n",
    "    simulate_batch()\n",
    "\n",
    "# Control variate adjustment\n",
    "Y = np.array(blocks)\n",
    "X = np.array(controls)\n",
    "mu_X = np.mean(X)  # Could use analytical if known\n",
    "\n",
    "# Estimate optimal c\n",
    "cov_YX = np.cov(Y, X, ddof=1)[0, 1]\n",
    "var_X = np.var(X, ddof=1)\n",
    "c_opt = cov_YX / var_X\n",
    "\n",
    "# Apply control variate correction\n",
    "Y_cv = Y - c_opt * (X - mu_X)\n",
    "\n",
    "# Estimate\n",
    "mean_naive = np.mean(Y)\n",
    "mean_cv = np.mean(Y_cv)\n",
    "std_naive = np.std(Y, ddof=1)\n",
    "std_cv = np.std(Y_cv, ddof=1)\n",
    "conf_level = 0.95\n",
    "z = norm.ppf(1 - (1 - conf_level) / 2)\n",
    "ci_naive = (mean_naive - z * std_naive / np.sqrt(batches),\n",
    "            mean_naive + z * std_naive / np.sqrt(batches))\n",
    "ci_cv = (mean_cv - z * std_cv / np.sqrt(batches),\n",
    "         mean_cv + z * std_cv / np.sqrt(batches))\n",
    "\n",
    "# Results\n",
    "print(f\"Naive estimate: {mean_naive:.5f} ± {z * std_naive / np.sqrt(batches):.5f}\")\n",
    "print(f\"CV estimate   : {mean_cv:.5f} ± {z * std_cv / np.sqrt(batches):.5f}\")\n",
    "print(f\"95% CI (naive): [{ci_naive[0]:.5f}, {ci_naive[1]:.5f}]\")\n",
    "print(f\"95% CI (CV)   : [{ci_cv[0]:.5f}, {ci_cv[1]:.5f}]\")\n"
   ]
  },
  {
   "cell_type": "markdown",
   "id": "4dd96682",
   "metadata": {},
   "source": [
    "6. **Demonstrate the effect of using common random numbers** in Exercise 4 for:\n",
    "   - The difference between Poisson arrivals (**Part 1**), and  \n",
    "   - A **renewal process with hyperexponential interarrival times**.  \n",
    "\n",
    "   **Remark:** You might need to do some thinking and some re-programming."
   ]
  },
  {
   "cell_type": "code",
   "execution_count": 4,
   "id": "fa2f2f65",
   "metadata": {},
   "outputs": [
    {
     "name": "stdout",
     "output_type": "stream",
     "text": [
      "Blocking (Poisson): 0.1245\n",
      "Blocking (Hyperexp): 0.1411\n",
      "Difference (CRNs): -0.0166\n"
     ]
    }
   ],
   "source": [
    "import numpy as np\n",
    "import heapq\n",
    "\n",
    "np.random.seed(237)\n",
    "\n",
    "# Parameters\n",
    "m = 10\n",
    "mean_service = 8\n",
    "num_customers = 10000\n",
    "\n",
    "# Hyperexponential parameters\n",
    "p1, lambda1 = 0.8, 0.8333\n",
    "p2, lambda2 = 0.2, 5.0\n",
    "\n",
    "# Generate common random numbers\n",
    "service_times = np.random.exponential(mean_service, size=num_customers)\n",
    "u_hyper_choice = np.random.rand(num_customers)\n",
    "expo1 = np.random.exponential(1 / lambda1, size=num_customers)\n",
    "expo2 = np.random.exponential(1 / lambda2, size=num_customers)\n",
    "interarrivals_poisson = np.random.exponential(1, size=num_customers)\n",
    "\n",
    "interarrivals_hyper = np.where(u_hyper_choice < p1, expo1, expo2)\n",
    "\n",
    "arrival_poisson = np.cumsum(interarrivals_poisson)\n",
    "arrival_hyper = np.cumsum(interarrivals_hyper)\n",
    "\n",
    "def simulate_blocking(arrival_times, service_times, m):\n",
    "    clock = 0\n",
    "    busy = 0\n",
    "    blocked = 0\n",
    "    queue = []\n",
    "\n",
    "    i = 0  # index into arrival_times\n",
    "    event_list = []\n",
    "\n",
    "    heapq.heappush(event_list, (arrival_times[0], 'arrival', 0))\n",
    "\n",
    "    while i < len(arrival_times) or event_list:\n",
    "        time, event, idx = heapq.heappop(event_list)\n",
    "        clock = time\n",
    "\n",
    "        if event == 'arrival':\n",
    "            if busy < m:\n",
    "                busy += 1\n",
    "                heapq.heappush(event_list, (clock + service_times[idx], 'departure', idx))\n",
    "            else:\n",
    "                blocked += 1\n",
    "            i += 1\n",
    "            if i < len(arrival_times):\n",
    "                heapq.heappush(event_list, (arrival_times[i], 'arrival', i))\n",
    "        elif event == 'departure':\n",
    "            busy -= 1\n",
    "\n",
    "    return blocked / num_customers\n",
    "\n",
    "# Run both simulations with CRNs\n",
    "block_poisson = simulate_blocking(arrival_poisson, service_times, m)\n",
    "block_hyper = simulate_blocking(arrival_hyper, service_times, m)\n",
    "\n",
    "print(f\"Blocking (Poisson): {block_poisson:.4f}\")\n",
    "print(f\"Blocking (Hyperexp): {block_hyper:.4f}\")\n",
    "print(f\"Difference (CRNs): {block_poisson - block_hyper:.4f}\")\n"
   ]
  },
  {
   "cell_type": "markdown",
   "id": "cf19508e",
   "metadata": {},
   "source": [
    "7. **For a standard normal random variable** $Z \\sim \\mathcal{N}(0, 1)$ using the crude Monte Carlo estimator, estimate the probability $Z > a$.  \n",
    "   Then try **importance sampling** with a normal density with mean $a$ and variance $\\sigma^2$.  \n",
    "   For the experiments, start using $\\sigma^2 = 1$, use different values of $a$ (e.g. 2 and 4), and different sample sizes.  \n",
    "   If time permits, experiment with other values for $\\sigma^2$.  \n",
    "   Finally, discuss the efficiency of the methods.\n",
    "\n",
    "\n"
   ]
  },
  {
   "cell_type": "code",
   "execution_count": 17,
   "id": "4506d82f",
   "metadata": {},
   "outputs": [
    {
     "name": "stdout",
     "output_type": "stream",
     "text": [
      "True value: 0.00003167\n",
      "Crude MC:  0.00000000 ± 0.00000000\n",
      "IS MC:     0.00003117 ± 0.00000133\n"
     ]
    }
   ],
   "source": [
    "import numpy as np\n",
    "from scipy.stats import norm\n",
    "\n",
    "seed = 237\n",
    "np.random.seed(seed)\n",
    "\n",
    "# Parameters\n",
    "a = 4\n",
    "n = 10000\n",
    "sigma2 = 1\n",
    "\n",
    "# --- Crude Monte Carlo ---\n",
    "z = np.random.normal(0, 1, size=n)\n",
    "p_crude = np.mean(z > a)\n",
    "se_crude = np.std(z > a, ddof=1) / np.sqrt(n)\n",
    "\n",
    "# --- Importance Sampling ---\n",
    "x = np.random.normal(a, np.sqrt(sigma2), size=n)\n",
    "# likelihood ratio for sigma^2 = 1\n",
    "weights = np.exp((x - a)**2 / 2 - x**2 / 2)\n",
    "p_is = np.mean((x > a) * weights)\n",
    "se_is = np.std((x > a) * weights, ddof=1) / np.sqrt(n)\n",
    "\n",
    "# True value\n",
    "p_true = 1 - norm.cdf(a)\n",
    "\n",
    "print(f\"True value: {p_true:.8f}\")\n",
    "print(f\"Crude MC:  {p_crude:.8f} ± {1.96 * se_crude:.8f}\")\n",
    "print(f\"IS MC:     {p_is:.8f} ± {1.96 * se_is:.8f}\")\n"
   ]
  },
  {
   "cell_type": "markdown",
   "id": "d71ac416",
   "metadata": {},
   "source": [
    "8. **Use importance sampling** with $g(x) = \\lambda \\exp(-\\lambda x)$ to calculate the integral  \n",
    "   $\\int_0^1 e^x dx$ of Question 1.  \n",
    "   Try to find the optimal value of $\\lambda$ by calculating the variance of  \n",
    "   $h(X) f(X)/g(X)$ and verify by simulation.  \n",
    "   **Note:** importance sampling with the exponential distribution will not reduce the variance.\n",
    "\n"
   ]
  },
  {
   "cell_type": "code",
   "execution_count": 18,
   "id": "b7a257d0",
   "metadata": {},
   "outputs": [
    {
     "data": {
      "image/png": "[encoded data removed]",
      "text/plain": [
       "<Figure size 800x400 with 1 Axes>"
      ]
     },
     "metadata": {},
     "output_type": "display_data"
    }
   ],
   "source": [
    "import numpy as np\n",
    "import matplotlib.pyplot as plt\n",
    "\n",
    "def is_estimate(lambda_val, n_samples=10000):\n",
    "    # Sample from Exponential(lambda)\n",
    "    x = np.random.exponential(scale=1/lambda_val, size=n_samples)\n",
    "    # Weight function: integrand (e^x) * indicator / g(x)\n",
    "    weights = (x <= 1) * np.exp(x) / (lambda_val * np.exp(-lambda_val * x))\n",
    "    estimate = np.mean(weights)\n",
    "    variance = np.var(weights, ddof=1)\n",
    "    return estimate, variance\n",
    "\n",
    "# Try different lambda values\n",
    "lambdas = np.linspace(0.5, 5, 20)\n",
    "estimates = []\n",
    "variances = []\n",
    "\n",
    "for lam in lambdas:\n",
    "    est, var = is_estimate(lam)\n",
    "    estimates.append(est)\n",
    "    variances.append(var)\n",
    "\n",
    "# Plot variance vs. lambda\n",
    "plt.figure(figsize=(8, 4))\n",
    "plt.plot(lambdas, variances, marker='o')\n",
    "plt.axhline(y=0.242, color='r', linestyle='--', label='Crude MC Variance')\n",
    "plt.title('Importance Sampling Variance vs. λ')\n",
    "plt.xlabel('λ')\n",
    "plt.ylabel('Sample Variance')\n",
    "plt.legend()\n",
    "plt.grid(True)\n",
    "plt.tight_layout()\n",
    "plt.show()\n"
   ]
  },
  {
   "cell_type": "markdown",
   "id": "b2b9a16c",
   "metadata": {},
   "source": [
    "9. **For the Pareto case**, derive the IS estimator for the mean using the **first moment distribution** as the sampling distribution.  \n",
    "   Is the approach meaningful? Could this be done in general?  \n",
    "   With this insight, how could you change the choice of $g(x)$ in the previous question?"
   ]
  }
 ],
 "metadata": {
  "kernelspec": {
   "display_name": "MMC",
   "language": "python",
   "name": "python3"
  },
  "language_info": {
   "codemirror_mode": {
    "name": "ipython",
    "version": 3
   },
   "file_extension": ".py",
   "mimetype": "text/x-python",
   "name": "python",
   "nbconvert_exporter": "python",
   "pygments_lexer": "ipython3",
   "version": "3.12.3"
  }
 },
 "nbformat": 4,
 "nbformat_minor": 5
}
