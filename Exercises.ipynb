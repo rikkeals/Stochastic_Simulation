{
 "cells": [
  {
   "cell_type": "markdown",
   "id": "5a464883",
   "metadata": {},
   "source": [
    "## Exercises"
   ]
  },
  {
   "cell_type": "markdown",
   "id": "36ec8035",
   "metadata": {},
   "source": [
    "### Exercise 1"
   ]
  },
  {
   "cell_type": "markdown",
   "id": "334e0734",
   "metadata": {},
   "source": [
    "A) Write a program implementing a linear congruential generator (LCG). Be sure that the program works correctly using only integer representation."
   ]
  },
  {
   "cell_type": "markdown",
   "id": "56f14609",
   "metadata": {},
   "source": [
    "**Linear Congruential Generator (LCG)**\n",
    "\n",
    "An LCG has the form:\n",
    "\n",
    "$$\n",
    "X_{n+1} = (a \\cdot X_n + c) \\mod m\n",
    "$$\n",
    "\n",
    "Where:\n",
    "\n",
    "- \\( a \\): multiplier  \n",
    "- \\( c \\): shift \n",
    "- \\( m \\): modulus  \n",
    "- \\( X_0 \\): initial value (seed)\n"
   ]
  },
  {
   "cell_type": "code",
   "execution_count": null,
   "id": "04a10ec2",
   "metadata": {},
   "outputs": [
    {
     "name": "stdout",
     "output_type": "stream",
     "text": [
      "[0.0, 0.1)     | ████████████████████████████████████████ (1250)\n",
      "[0.1, 0.2)     | ████████████████████████████████████████ (1250)\n",
      "[0.2, 0.3)     | ████████████████████ (625)\n",
      "[0.3, 0.4)     | ████████████████████████████████████████ (1250)\n",
      "[0.4, 0.5)     | ████████████████████ (625)\n",
      "[0.5, 0.6)     | ████████████████████████████████████████ (1250)\n",
      "[0.6, 0.7)     | ████████████████████████████████████████ (1250)\n",
      "[0.7, 0.8)     | ████████████████████ (625)\n",
      "[0.8, 0.9)     | ████████████████████████████████████████ (1250)\n",
      "[0.9, 1.0)     | ████████████████████ (625)\n",
      "\n"
     ]
    }
   ],
   "source": [
    "# LCG parameters\n",
    "# Linear Congruential Generator (LCG) implementation\n",
    "a = 5\n",
    "c = 1\n",
    "m = 16\n",
    "seed = 237\n",
    "\n",
    "def lcg(n, seed=seed):\n",
    "    x = seed\n",
    "    numbers = []\n",
    "    for _ in range(n):\n",
    "        x = (a * x + c) % m\n",
    "        numbers.append(x / m)  # Normaliser til [0,1)\n",
    "    return numbers\n",
    "\n",
    "# Generate 10000 random numbers\n",
    "numbers = lcg(10000)\n",
    "\n",
    "# Parameters for [0,1) interval\n",
    "num_bins = 10\n",
    "min_val = 0.0\n",
    "max_val = 1.0\n",
    "bin_width = (max_val - min_val) / num_bins\n",
    "\n",
    "# Initialize bins\n",
    "hist_counts = [0] * num_bins\n",
    "\n",
    "# Count occurrences in each bin\n",
    "for val in numbers:\n",
    "    bin_index = int((val - min_val) / bin_width)\n",
    "    if bin_index >= num_bins:  # Clamp to last bin if val == 1.0 (rare but safe)\n",
    "        bin_index = num_bins - 1\n",
    "    hist_counts[bin_index] += 1\n",
    "\n",
    "# Determine max count for scaling\n",
    "max_count = max(hist_counts)\n",
    "\n",
    "# Build text histogram\n",
    "histogram_text = \"\"\n",
    "for i in range(num_bins):\n",
    "    start = min_val + i * bin_width\n",
    "    end = start + bin_width\n",
    "    bar = '█' * int((hist_counts[i] / max_count) * 40)\n",
    "    label = f\"[{start:.1f}, {end:.1f})\"\n",
    "    histogram_text += f\"{label.ljust(14)} | {bar} ({hist_counts[i]})\\n\"\n",
    "\n",
    "print(histogram_text)\n",
    "\n"
   ]
  },
  {
   "cell_type": "markdown",
   "id": "765679b4",
   "metadata": {},
   "source": [
    "#### B"
   ]
  },
  {
   "cell_type": "markdown",
   "id": "c7399e66",
   "metadata": {},
   "source": [
    "Evaluate the quality of the generator by graphical descriptive statistics (histogrammes, scatter plots) and statistical tests- χ2,Kolmogorov-Smirnov, run-tests preferably but not necessarily all 3, and correlation test forsome h-values."
   ]
  },
  {
   "cell_type": "code",
   "execution_count": 13,
   "id": "333c55d4",
   "metadata": {},
   "outputs": [
    {
     "name": "stdout",
     "output_type": "stream",
     "text": [
      " i     X_i     \n",
      "--------------\n",
      "0     0.125      \n",
      "1     0.6875     \n",
      "2     0.5        \n",
      "3     0.5625     \n",
      "4     0.875      \n",
      "5     0.4375     \n",
      "6     0.25       \n",
      "7     0.3125     \n",
      "8     0.625      \n",
      "9     0.1875     \n",
      "10    0.0        \n",
      "11    0.0625     \n",
      "12    0.375      \n",
      "13    0.9375     \n",
      "14    0.75       \n",
      "15    0.8125     \n",
      "16    0.125      \n",
      "17    0.6875     \n",
      "18    0.5        \n",
      "19    0.5625     \n"
     ]
    }
   ],
   "source": [
    "# Show 20 x_i\n",
    "print(\" i     X_i     \")\n",
    "print(\"--------------\")\n",
    "for i in range(20):\n",
    "    xi = round(numbers[i], 4)\n",
    "    print(f\"{i:<5} {xi:<10} \")\n"
   ]
  },
  {
   "cell_type": "markdown",
   "id": "d9ef1cf0",
   "metadata": {},
   "source": [
    "#### Chi_squared test"
   ]
  },
  {
   "cell_type": "code",
   "execution_count": 14,
   "id": "23b7f0cd",
   "metadata": {},
   "outputs": [
    {
     "name": "stdout",
     "output_type": "stream",
     "text": [
      "\n",
      "Chi-squared statistic: 937.50\n"
     ]
    }
   ],
   "source": [
    "expected = len(numbers) // num_bins\n",
    "chi_squared = 0\n",
    "for observed in hist_counts:\n",
    "    chi_squared += ((observed - expected) ** 2) / expected\n",
    "\n",
    "print(f\"\\nChi-squared statistic: {chi_squared:.2f}\")\n"
   ]
  },
  {
   "cell_type": "code",
   "execution_count": null,
   "id": "b13bd43e",
   "metadata": {},
   "outputs": [
    {
     "name": "stdout",
     "output_type": "stream",
     "text": [
      "\n",
      "Estimated number of runs (first 100 values): 64\n"
     ]
    }
   ],
   "source": [
    "# SLETTES???????\n",
    "\n",
    "\n",
    "\n",
    "run_count = 1\n",
    "prev_trend = None\n",
    "short_seq = numbers[:100]  # take first 100 values\n",
    "for i in range(1, len(short_seq)):\n",
    "    if short_seq[i] > short_seq[i - 1]:\n",
    "        trend = \"up\"\n",
    "    elif short_seq[i] < short_seq[i - 1]:\n",
    "        trend = \"down\"\n",
    "    else:\n",
    "        trend = \"same\"\n",
    "\n",
    "    if trend != prev_trend and trend != \"same\":\n",
    "        run_count += 1\n",
    "        prev_trend = trend\n",
    "\n",
    "print(f\"\\nEstimated number of runs (first 100 values): {run_count}\")\n"
   ]
  },
  {
   "cell_type": "markdown",
   "id": "7e4e8a51",
   "metadata": {},
   "source": [
    "#### Correlation test (Rikke, ikke den fra slides)"
   ]
  },
  {
   "cell_type": "code",
   "execution_count": 16,
   "id": "95af317c",
   "metadata": {},
   "outputs": [
    {
     "name": "stdout",
     "output_type": "stream",
     "text": [
      "\n",
      "Correlation between X_i and X_(i+1): 0.2708\n"
     ]
    }
   ],
   "source": [
    "n = len(numbers) - 1\n",
    "x = numbers[:-1]\n",
    "y = numbers[1:]\n",
    "mean_x = sum(x) / n\n",
    "mean_y = sum(y) / n\n",
    "\n",
    "numerator = sum((x[i] - mean_x) * (y[i] - mean_y) for i in range(n))\n",
    "denominator_x = sum((x[i] - mean_x) ** 2 for i in range(n))\n",
    "denominator_y = sum((y[i] - mean_y) ** 2 for i in range(n))\n",
    "correlation = numerator / (denominator_x * denominator_y) ** 0.5\n",
    "\n",
    "print(f\"\\nCorrelation between X_i and X_(i+1): {correlation:.4f}\")\n"
   ]
  },
  {
   "cell_type": "markdown",
   "id": "6cb727aa",
   "metadata": {},
   "source": [
    "#### Correlation test (Lotte, den fra slides)"
   ]
  },
  {
   "cell_type": "code",
   "execution_count": 35,
   "id": "34ef668b",
   "metadata": {},
   "outputs": [
    {
     "name": "stdout",
     "output_type": "stream",
     "text": [
      "Estimated c₁ = 0.24668\n"
     ]
    }
   ],
   "source": [
    "def lag_correlation(U, h=1):\n",
    "    n = len(U)\n",
    "    return sum(U[i] * U[i + h] for i in range(n - h)) / (n - h)\n",
    "\n",
    "ch = lag_correlation(numbers, h=1)\n",
    "print(f\"Estimated c₁ = {ch:.5f}\")\n"
   ]
  },
  {
   "cell_type": "markdown",
   "id": "70662926",
   "metadata": {},
   "source": [
    "#### Kolmogorov Smirnov test"
   ]
  },
  {
   "cell_type": "code",
   "execution_count": 17,
   "id": "4d3c3e99",
   "metadata": {},
   "outputs": [],
   "source": [
    "def ks_test_uniform(data):\n",
    "    n = len(data)\n",
    "    sorted_data = sorted(data)\n",
    "\n",
    "    # Compute empirical CDF and compare with theoretical CDF\n",
    "    D_plus = max((i + 1) / n - val for i, val in enumerate(sorted_data))\n",
    "    D_minus = max(val - i / n for i, val in enumerate(sorted_data))\n",
    "\n",
    "    Dn = max(D_plus, D_minus)\n",
    "    return Dn\n",
    "\n",
    "def ks_critical_value(alpha=0.05, n=10000):\n",
    "    # Critical value constant for alpha = 0.05\n",
    "    c_alpha = 1.36\n",
    "    return c_alpha / (n ** 0.5)\n"
   ]
  },
  {
   "cell_type": "code",
   "execution_count": null,
   "id": "7ed2ccc4",
   "metadata": {},
   "outputs": [
    {
     "name": "stdout",
     "output_type": "stream",
     "text": [
      "KS Statistic: 0.06250\n",
      "Critical value (alpha=0.05): 0.01360\n",
      "Reject null hypothesis: sample is not uniform.\n"
     ]
    }
   ],
   "source": [
    "# ks test\n",
    "Dn = ks_test_uniform(numbers)\n",
    "D_crit = ks_critical_value(0.05, len(numbers))\n",
    "\n",
    "print(f\"KS Statistic: {Dn:.5f}\")\n",
    "print(f\"Critical value (alpha=0.05): {D_crit:.5f}\")\n",
    "\n",
    "if Dn > D_crit:\n",
    "    print(\"Reject null hypothesis: sample is not uniform.\")\n",
    "else:\n",
    "    print(\"Fail to reject null hypothesis: sample appears uniform.\")"
   ]
  },
  {
   "cell_type": "markdown",
   "id": "786e0d83",
   "metadata": {},
   "source": [
    "#### Run test I"
   ]
  },
  {
   "cell_type": "code",
   "execution_count": 26,
   "id": "bd9e1392",
   "metadata": {},
   "outputs": [],
   "source": [
    "import numpy as np\n",
    "from math import sqrt\n",
    "\n",
    "def run_test_above_below(data):\n",
    "    median = np.median(data)\n",
    "    \n",
    "    # Step 1: Convert to binary sequence: 1 if above median, 0 if below\n",
    "    signs = [1 if x > median else 0 for x in data]\n",
    "    \n",
    "    # Step 2: Count runs (change between 0 and 1)\n",
    "    runs = 1  # first element starts the first run\n",
    "    for i in range(1, len(signs)):\n",
    "        if signs[i] != signs[i - 1]:\n",
    "            runs += 1\n",
    "\n",
    "    n1 = signs.count(1)  # number above median\n",
    "    n2 = signs.count(0)  # number below median\n",
    "\n",
    "    if n1 == 0 or n2 == 0:\n",
    "        return runs, None, None, \"Not enough variation to perform test\"\n",
    "\n",
    "    # Step 3: Calculate expected value and variance under H0\n",
    "    expected_runs = 2 * n1 * n2 / (n1 + n2) + 1\n",
    "    variance_runs = (\n",
    "        2 * n1 * n2 * (2 * n1 * n2 - n1 - n2)\n",
    "        / ((n1 + n2) ** 2 * (n1 + n2 - 1))\n",
    "    )\n",
    "\n",
    "    # Step 4: Compute Z-score\n",
    "    z = (runs - expected_runs) / sqrt(variance_runs)\n",
    "\n",
    "    return runs, expected_runs, z, None\n"
   ]
  },
  {
   "cell_type": "code",
   "execution_count": 27,
   "id": "143a260b",
   "metadata": {},
   "outputs": [
    {
     "name": "stdout",
     "output_type": "stream",
     "text": [
      "Observed number of runs: 5043\n",
      "Expected number of runs: 5001.00\n",
      "Z-score: 0.840\n",
      "Fail to reject null hypothesis: runs appear random.\n"
     ]
    }
   ],
   "source": [
    "# Run the test\n",
    "runs, expected, z, warning = run_test_above_below(numbers)\n",
    "\n",
    "print(f\"Observed number of runs: {runs}\")\n",
    "print(f\"Expected number of runs: {expected:.2f}\")\n",
    "print(f\"Z-score: {z:.3f}\" if z is not None else warning)\n",
    "\n",
    "# Interpret result\n",
    "if z is not None:\n",
    "    if abs(z) > 1.96:\n",
    "        print(\"Reject null hypothesis: evidence of non-randomness.\")\n",
    "    else:\n",
    "        print(\"Fail to reject null hypothesis: runs appear random.\")\n"
   ]
  },
  {
   "cell_type": "markdown",
   "id": "713f7d28",
   "metadata": {},
   "source": [
    "#### Run test II"
   ]
  },
  {
   "cell_type": "code",
   "execution_count": 31,
   "id": "c35dbd31",
   "metadata": {},
   "outputs": [],
   "source": [
    "import numpy as np\n",
    "\n",
    "def run_test_knuth(data):\n",
    "    n = len(data)\n",
    "\n",
    "    # Step 1: Count run lengths\n",
    "    run_lengths = []\n",
    "    current_run = 1\n",
    "    for i in range(1, n):\n",
    "        if data[i] > data[i - 1]:\n",
    "            current_run += 1\n",
    "        else:\n",
    "            run_lengths.append(current_run)\n",
    "            current_run = 1\n",
    "    run_lengths.append(current_run)  # include final run\n",
    "\n",
    "    # Step 2: Build vector R (run count for length 1-5, and 6+)\n",
    "    R = np.zeros(6)\n",
    "    for length in run_lengths:\n",
    "        if length >= 6:\n",
    "            R[5] += 1\n",
    "        else:\n",
    "            R[length - 1] += 1\n",
    "\n",
    "    # Step 3: Define A matrix (6x6) and B vector (6x1)\n",
    "    A = np.array([\n",
    "        [4529.4, 9044.9, 13568, 18091, 22615, 27892],\n",
    "        [9044.9, 18097, 27139, 36187, 45234, 55789],\n",
    "        [13568, 27139, 40721, 54281, 67852, 83685],\n",
    "        [18091, 36187, 54281, 72414, 90470, 111580],\n",
    "        [22615, 45234, 67852, 90470, 113262, 139476],\n",
    "        [27892, 55789, 83685, 111580, 139476, 172860]\n",
    "    ])\n",
    "\n",
    "    B = np.array([1/6, 5/24, 11/120, 19/720, 29/5040, 1/840])\n",
    "\n",
    "    # Step 4: Compute test statistic Z\n",
    "    diff = R - n * B\n",
    "    Z = (1 / (n - 6)) * diff @ A @ diff.T\n",
    "    return Z, R\n"
   ]
  },
  {
   "cell_type": "code",
   "execution_count": 32,
   "id": "e77a9d31",
   "metadata": {},
   "outputs": [
    {
     "name": "stdout",
     "output_type": "stream",
     "text": [
      "Z-statistic: 3.279\n",
      "Run counts (lengths 1–5, 6+): [1652 2099  922  256   52   16]\n",
      "p-value: 0.7731\n"
     ]
    }
   ],
   "source": [
    "# Perform the run test\n",
    "Z, R = run_test_knuth(numbers)\n",
    "\n",
    "print(f\"Z-statistic: {Z:.3f}\")\n",
    "print(\"Run counts (lengths 1–5, 6+):\", R.astype(int))\n",
    "\n",
    "# Interpret using chi-square distribution with 6 degrees of freedom\n",
    "from scipy.stats import chi2\n",
    "p_value = 1 - chi2.cdf(Z, df=6)\n",
    "print(f\"p-value: {p_value:.4f}\")\n"
   ]
  },
  {
   "cell_type": "markdown",
   "id": "0466f6a2",
   "metadata": {},
   "source": [
    "#### Run test III"
   ]
  },
  {
   "cell_type": "code",
   "execution_count": 33,
   "id": "5aa748e3",
   "metadata": {},
   "outputs": [],
   "source": [
    "def up_down_test(data):\n",
    "    if len(data) < 2:\n",
    "        return None, None\n",
    "\n",
    "    # Step 1: Convert data to up/down sequence: 1 for up, -1 for down, 0 for equal\n",
    "    directions = []\n",
    "    for i in range(1, len(data)):\n",
    "        if data[i] > data[i - 1]:\n",
    "            directions.append(1)\n",
    "        elif data[i] < data[i - 1]:\n",
    "            directions.append(-1)\n",
    "\n",
    "    # Step 2: Count runs in the direction sequence\n",
    "    if not directions:\n",
    "        return 0, 0\n",
    "\n",
    "    runs = 1\n",
    "    for i in range(1, len(directions)):\n",
    "        if directions[i] != directions[i - 1]:\n",
    "            runs += 1\n",
    "\n",
    "    # Step 3: Compute expected value and variance\n",
    "    n = len(directions) + 1  # original sample length\n",
    "    expected = (2 * n - 1) / 3\n",
    "    variance = (16 * n - 29) / 90\n",
    "\n",
    "    # Step 4: Compute Z-score\n",
    "    z = (runs - expected) / sqrt(variance)\n",
    "\n",
    "    return z, runs\n"
   ]
  },
  {
   "cell_type": "code",
   "execution_count": 34,
   "id": "77e11187",
   "metadata": {},
   "outputs": [
    {
     "name": "stdout",
     "output_type": "stream",
     "text": [
      "Number of up/down runs: 6690\n",
      "Z-score: 0.5614\n",
      "Fail to reject null hypothesis: no evidence against randomness.\n"
     ]
    }
   ],
   "source": [
    "z, total_runs = up_down_test(numbers)\n",
    "print(f\"Number of up/down runs: {total_runs}\")\n",
    "print(f\"Z-score: {z:.4f}\")\n",
    "\n",
    "# Optional interpretation\n",
    "if abs(z) > 1.96:\n",
    "    print(\"Reject null hypothesis: sequence shows non-random behavior.\")\n",
    "else:\n",
    "    print(\"Fail to reject null hypothesis: no evidence against randomness.\")\n"
   ]
  },
  {
   "cell_type": "markdown",
   "id": "87bfdeba",
   "metadata": {},
   "source": [
    "### Øvelse 1.2"
   ]
  },
  {
   "cell_type": "code",
   "execution_count": 37,
   "id": "772d2e94",
   "metadata": {},
   "outputs": [],
   "source": [
    "import random\n",
    "\n",
    "sim_numbers = [random.random() for _ in range(10000)]"
   ]
  },
  {
   "cell_type": "code",
   "execution_count": 41,
   "id": "be9b5ffa",
   "metadata": {},
   "outputs": [
    {
     "name": "stdout",
     "output_type": "stream",
     "text": [
      "[0.0, 0.1)     | ████████████████████████████████████████ (1044)\n",
      "[0.1, 0.2)     | ████████████████████████████████████ (962)\n",
      "[0.2, 0.3)     | ██████████████████████████████████████ (1000)\n",
      "[0.3, 0.4)     | ██████████████████████████████████████ (1014)\n",
      "[0.4, 0.5)     | ██████████████████████████████████████ (997)\n",
      "[0.5, 0.6)     | ████████████████████████████████████ (958)\n",
      "[0.6, 0.7)     | ███████████████████████████████████████ (1037)\n",
      "[0.7, 0.8)     | ██████████████████████████████████████ (1013)\n",
      "[0.8, 0.9)     | ██████████████████████████████████████ (1014)\n",
      "[0.9, 1.0)     | ████████████████████████████████████ (961)\n",
      "\n"
     ]
    }
   ],
   "source": [
    "# Parameters for [0,1) interval\n",
    "num_bins = 10\n",
    "min_val = 0.0\n",
    "max_val = 1.0\n",
    "bin_width = (max_val - min_val) / num_bins\n",
    "\n",
    "# Initialize bins\n",
    "hist_counts = [0] * num_bins\n",
    "\n",
    "# Count occurrences in each bin\n",
    "for val in sim_numbers:\n",
    "    bin_index = int((val - min_val) / bin_width)\n",
    "    if bin_index >= num_bins:  # Clamp to last bin if val == 1.0 (rare but safe)\n",
    "        bin_index = num_bins - 1\n",
    "    hist_counts[bin_index] += 1\n",
    "\n",
    "# Determine max count for scaling\n",
    "max_count = max(hist_counts)\n",
    "\n",
    "# Build text histogram\n",
    "histogram_text = \"\"\n",
    "for i in range(num_bins):\n",
    "    start = min_val + i * bin_width\n",
    "    end = start + bin_width\n",
    "    bar = '█' * int((hist_counts[i] / max_count) * 40)\n",
    "    label = f\"[{start:.1f}, {end:.1f})\"\n",
    "    histogram_text += f\"{label.ljust(14)} | {bar} ({hist_counts[i]})\\n\"\n",
    "\n",
    "print(histogram_text)"
   ]
  },
  {
   "cell_type": "code",
   "execution_count": null,
   "id": "675534d0",
   "metadata": {},
   "outputs": [],
   "source": [
    "# Not nessary to show 20 x_i for simulated numbers, but can be done similarly?!?\n",
    "# Show 20 x_i \n",
    "print(\" i     X_i     \")\n",
    "print(\"--------------\")\n",
    "for i in range(20):\n",
    "    xi = round(numbers[i], 4)\n",
    "    print(f\"{i:<5} {xi:<10} \")\n"
   ]
  },
  {
   "cell_type": "markdown",
   "id": "cfaa321c",
   "metadata": {},
   "source": [
    "#### Chi_squared for sim_numbers"
   ]
  },
  {
   "cell_type": "code",
   "execution_count": 42,
   "id": "8462f0e4",
   "metadata": {},
   "outputs": [
    {
     "name": "stdout",
     "output_type": "stream",
     "text": [
      "\n",
      "Chi-squared statistic: 8.60\n"
     ]
    }
   ],
   "source": [
    "expected = len(sim_numbers) // num_bins\n",
    "chi_squared = 0\n",
    "for observed in hist_counts:\n",
    "    chi_squared += ((observed - expected) ** 2) / expected\n",
    "\n",
    "print(f\"\\nChi-squared statistic: {chi_squared:.2f}\")"
   ]
  },
  {
   "cell_type": "markdown",
   "id": "3d44059a",
   "metadata": {},
   "source": [
    "#### KS-test"
   ]
  },
  {
   "cell_type": "code",
   "execution_count": 43,
   "id": "0d26da8e",
   "metadata": {},
   "outputs": [
    {
     "name": "stdout",
     "output_type": "stream",
     "text": [
      "KS Statistic: 0.00602\n",
      "Critical value (alpha=0.05): 0.01360\n",
      "Fail to reject null hypothesis: sample appears uniform.\n"
     ]
    }
   ],
   "source": [
    "# Run test\n",
    "Dn = ks_test_uniform(sim_numbers)\n",
    "D_crit = ks_critical_value(0.05, len(sim_numbers))\n",
    "\n",
    "print(f\"KS Statistic: {Dn:.5f}\")\n",
    "print(f\"Critical value (alpha=0.05): {D_crit:.5f}\")\n",
    "\n",
    "if Dn > D_crit:\n",
    "    print(\"Reject null hypothesis: sample is not uniform.\")\n",
    "else:\n",
    "    print(\"Fail to reject null hypothesis: sample appears uniform.\")"
   ]
  },
  {
   "cell_type": "markdown",
   "id": "d1fa3219",
   "metadata": {},
   "source": [
    "#### Correlation test"
   ]
  },
  {
   "cell_type": "code",
   "execution_count": 44,
   "id": "ddba3480",
   "metadata": {},
   "outputs": [
    {
     "name": "stdout",
     "output_type": "stream",
     "text": [
      "Estimated c₁ = 0.24830\n"
     ]
    }
   ],
   "source": [
    "ch = lag_correlation(sim_numbers, h=1)\n",
    "print(f\"Estimated c₁ = {ch:.5f}\")"
   ]
  },
  {
   "cell_type": "code",
   "execution_count": 47,
   "id": "84691105",
   "metadata": {},
   "outputs": [
    {
     "name": "stdout",
     "output_type": "stream",
     "text": [
      "Observed number of runs: 4983\n",
      "Expected number of runs: 5001.00\n",
      "Z-score: -0.360\n",
      "Fail to reject null hypothesis: runs appear random.\n"
     ]
    }
   ],
   "source": [
    "# Run test 1\n",
    "\n",
    "# Run the test\n",
    "runs, expected, z, warning = run_test_above_below(sim_numbers)\n",
    "\n",
    "print(f\"Observed number of runs: {runs}\")\n",
    "print(f\"Expected number of runs: {expected:.2f}\")\n",
    "print(f\"Z-score: {z:.3f}\" if z is not None else warning)\n",
    "\n",
    "# Interpret result\n",
    "if z is not None:\n",
    "    if abs(z) > 1.96:\n",
    "        print(\"Reject null hypothesis: evidence of non-randomness.\")\n",
    "    else:\n",
    "        print(\"Fail to reject null hypothesis: runs appear random.\")"
   ]
  },
  {
   "cell_type": "code",
   "execution_count": 48,
   "id": "1ccdbc8b",
   "metadata": {},
   "outputs": [
    {
     "name": "stdout",
     "output_type": "stream",
     "text": [
      "Z-statistic: 9.292\n",
      "Run counts (lengths 1–5, 6+): [1654 2125  879  288   45   13]\n",
      "p-value: 0.1578\n"
     ]
    }
   ],
   "source": [
    "# Run test 2\n",
    "\n",
    "# Perform the run test\n",
    "Z, R = run_test_knuth(sim_numbers)\n",
    "\n",
    "print(f\"Z-statistic: {Z:.3f}\")\n",
    "print(\"Run counts (lengths 1–5, 6+):\", R.astype(int))\n",
    "\n",
    "# Interpret using chi-square distribution with 6 degrees of freedom\n",
    "from scipy.stats import chi2\n",
    "p_value = 1 - chi2.cdf(Z, df=6)\n",
    "print(f\"p-value: {p_value:.4f}\")"
   ]
  },
  {
   "cell_type": "code",
   "execution_count": 49,
   "id": "49e1cff0",
   "metadata": {},
   "outputs": [
    {
     "name": "stdout",
     "output_type": "stream",
     "text": [
      "Number of up/down runs: 6700\n",
      "Z-score: 0.7985\n",
      "Fail to reject null hypothesis: no evidence against randomness.\n"
     ]
    }
   ],
   "source": [
    "# Run test 3\n",
    "\n",
    "z, total_runs = up_down_test(sim_numbers)\n",
    "print(f\"Number of up/down runs: {total_runs}\")\n",
    "print(f\"Z-score: {z:.4f}\")\n",
    "\n",
    "# Optional interpretation\n",
    "if abs(z) > 1.96:\n",
    "    print(\"Reject null hypothesis: sequence shows non-random behavior.\")\n",
    "else:\n",
    "    print(\"Fail to reject null hypothesis: no evidence against randomness.\")"
   ]
  }
 ],
 "metadata": {
  "kernelspec": {
   "display_name": "course02502",
   "language": "python",
   "name": "python3"
  },
  "language_info": {
   "codemirror_mode": {
    "name": "ipython",
    "version": 3
   },
   "file_extension": ".py",
   "mimetype": "text/x-python",
   "name": "python",
   "nbconvert_exporter": "python",
   "pygments_lexer": "ipython3",
   "version": "3.9.16"
  }
 },
 "nbformat": 4,
 "nbformat_minor": 5
}
