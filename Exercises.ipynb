{
 "cells": [
  {
   "cell_type": "markdown",
   "id": "5a464883",
   "metadata": {},
   "source": [
    "### Øvelser"
   ]
  },
  {
   "cell_type": "markdown",
   "id": "36ec8035",
   "metadata": {},
   "source": [
    "### Øvelse 1"
   ]
  },
  {
   "cell_type": "markdown",
   "id": "56f14609",
   "metadata": {},
   "source": [
    "## Linear Congruential Generator (LCG)\n",
    "\n",
    "An LCG has the form:\n",
    "\n",
    "$$\n",
    "X_{n+1} = (a \\cdot X_n + c) \\mod m\n",
    "$$\n",
    "\n",
    "Where:\n",
    "\n",
    "- \\( a \\): multiplier  \n",
    "- \\( c \\): shift \n",
    "- \\( m \\): modulus  \n",
    "- \\( X_0 \\): initial value (seed)\n"
   ]
  },
  {
   "cell_type": "code",
   "execution_count": 9,
   "id": "04a10ec2",
   "metadata": {},
   "outputs": [
    {
     "name": "stdout",
     "output_type": "stream",
     "text": [
      "[0.0, 0.1)     | ████████████████████████████████████████ (1250)\n",
      "[0.1, 0.2)     | ████████████████████████████████████████ (1250)\n",
      "[0.2, 0.3)     | ████████████████████ (625)\n",
      "[0.3, 0.4)     | ████████████████████████████████████████ (1250)\n",
      "[0.4, 0.5)     | ████████████████████ (625)\n",
      "[0.5, 0.6)     | ████████████████████████████████████████ (1250)\n",
      "[0.6, 0.7)     | ████████████████████████████████████████ (1250)\n",
      "[0.7, 0.8)     | ████████████████████ (625)\n",
      "[0.8, 0.9)     | ████████████████████████████████████████ (1250)\n",
      "[0.9, 1.0)     | ████████████████████ (625)\n",
      "\n"
     ]
    }
   ],
   "source": [
    "# LCG parametre \n",
    "a = 5\n",
    "c = 1\n",
    "m = 16\n",
    "seed = 237\n",
    "\n",
    "def lcg(n, seed=seed):\n",
    "    x = seed\n",
    "    numbers = []\n",
    "    for _ in range(n):\n",
    "        x = (a * x + c) % m\n",
    "        numbers.append(x / m)  # Normaliser til [0,1)\n",
    "    return numbers\n",
    "\n",
    "# Generér 10.000 tal\n",
    "numbers = lcg(10000)\n",
    "\n",
    "# Parameters for [0,1) interval\n",
    "num_bins = 10\n",
    "min_val = 0.0\n",
    "max_val = 1.0\n",
    "bin_width = (max_val - min_val) / num_bins\n",
    "\n",
    "# Initialize bins\n",
    "hist_counts = [0] * num_bins\n",
    "\n",
    "# Count occurrences in each bin\n",
    "for val in numbers:\n",
    "    bin_index = int((val - min_val) / bin_width)\n",
    "    if bin_index >= num_bins:  # Clamp to last bin if val == 1.0 (rare but safe)\n",
    "        bin_index = num_bins - 1\n",
    "    hist_counts[bin_index] += 1\n",
    "\n",
    "# Determine max count for scaling\n",
    "max_count = max(hist_counts)\n",
    "\n",
    "# Build text histogram\n",
    "histogram_text = \"\"\n",
    "for i in range(num_bins):\n",
    "    start = min_val + i * bin_width\n",
    "    end = start + bin_width\n",
    "    bar = '█' * int((hist_counts[i] / max_count) * 40)\n",
    "    label = f\"[{start:.1f}, {end:.1f})\"\n",
    "    histogram_text += f\"{label.ljust(14)} | {bar} ({hist_counts[i]})\\n\"\n",
    "\n",
    "print(histogram_text)\n",
    "\n"
   ]
  }
 ],
 "metadata": {
  "kernelspec": {
   "display_name": "MMC",
   "language": "python",
   "name": "python3"
  },
  "language_info": {
   "codemirror_mode": {
    "name": "ipython",
    "version": 3
   },
   "file_extension": ".py",
   "mimetype": "text/x-python",
   "name": "python",
   "nbconvert_exporter": "python",
   "pygments_lexer": "ipython3",
   "version": "3.12.3"
  }
 },
 "nbformat": 4,
 "nbformat_minor": 5
}
