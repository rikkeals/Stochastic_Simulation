{
 "cells": [
  {
   "cell_type": "markdown",
   "id": "5a464883",
   "metadata": {},
   "source": [
    "## Exercises"
   ]
  },
  {
   "cell_type": "markdown",
   "id": "36ec8035",
   "metadata": {},
   "source": [
    "### Exercise 1"
   ]
  },
  {
   "cell_type": "markdown",
   "id": "334e0734",
   "metadata": {},
   "source": [
    "A) Write a program implementing a linear congruential generator (LCG). Be sure that the program works correctly using only integer representation."
   ]
  },
  {
   "cell_type": "markdown",
   "id": "56f14609",
   "metadata": {},
   "source": [
    "**Linear Congruential Generator (LCG)**\n",
    "\n",
    "An LCG has the form:\n",
    "\n",
    "$$\n",
    "X_{n+1} = (a \\cdot X_n + c) \\mod m\n",
    "$$\n",
    "\n",
    "Where:\n",
    "\n",
    "- \\( a \\): multiplier  \n",
    "- \\( c \\): shift \n",
    "- \\( m \\): modulus  \n",
    "- \\( X_0 \\): initial value (seed)\n"
   ]
  },
  {
   "cell_type": "code",
   "execution_count": 2,
   "id": "04a10ec2",
   "metadata": {},
   "outputs": [
    {
     "name": "stdout",
     "output_type": "stream",
     "text": [
      "[0.0, 0.1)     | ████████████████████████████████████████ (1250)\n",
      "[0.1, 0.2)     | ████████████████████████████████████████ (1250)\n",
      "[0.2, 0.3)     | ████████████████████ (625)\n",
      "[0.3, 0.4)     | ████████████████████████████████████████ (1250)\n",
      "[0.4, 0.5)     | ████████████████████ (625)\n",
      "[0.5, 0.6)     | ████████████████████████████████████████ (1250)\n",
      "[0.6, 0.7)     | ████████████████████████████████████████ (1250)\n",
      "[0.7, 0.8)     | ████████████████████ (625)\n",
      "[0.8, 0.9)     | ████████████████████████████████████████ (1250)\n",
      "[0.9, 1.0)     | ████████████████████ (625)\n",
      "\n"
     ]
    }
   ],
   "source": [
    "# LCG parameters\n",
    "# Linear Congruential Generator (LCG) implementation\n",
    "a = 5\n",
    "c = 1\n",
    "m = 16\n",
    "seed = 237\n",
    "\n",
    "def lcg(n, seed=seed):\n",
    "    x = seed\n",
    "    numbers = []\n",
    "    for _ in range(n):\n",
    "        x = (a * x + c) % m\n",
    "        numbers.append(x / m)  # Normaliser til [0,1)\n",
    "    return numbers\n",
    "\n",
    "# Generate 10000 random numbers\n",
    "numbers = lcg(10000)\n",
    "\n",
    "# Parameters for [0,1) interval\n",
    "num_bins = 10\n",
    "min_val = 0.0\n",
    "max_val = 1.0\n",
    "bin_width = (max_val - min_val) / num_bins\n",
    "\n",
    "# Initialize bins\n",
    "hist_counts = [0] * num_bins\n",
    "\n",
    "# Count occurrences in each bin\n",
    "for val in numbers:\n",
    "    bin_index = int((val - min_val) / bin_width)\n",
    "    if bin_index >= num_bins:  # Clamp to last bin if val == 1.0 (rare but safe)\n",
    "        bin_index = num_bins - 1\n",
    "    hist_counts[bin_index] += 1\n",
    "\n",
    "# Determine max count for scaling\n",
    "max_count = max(hist_counts)\n",
    "\n",
    "# Build text histogram\n",
    "histogram_text = \"\"\n",
    "for i in range(num_bins):\n",
    "    start = min_val + i * bin_width\n",
    "    end = start + bin_width\n",
    "    bar = '█' * int((hist_counts[i] / max_count) * 40)\n",
    "    label = f\"[{start:.1f}, {end:.1f})\"\n",
    "    histogram_text += f\"{label.ljust(14)} | {bar} ({hist_counts[i]})\\n\"\n",
    "\n",
    "print(histogram_text)\n",
    "\n"
   ]
  },
  {
   "cell_type": "markdown",
   "id": "765679b4",
   "metadata": {},
   "source": [
    "#### B"
   ]
  },
  {
   "cell_type": "markdown",
   "id": "c7399e66",
   "metadata": {},
   "source": [
    "Evaluate the quality of the generator by graphical descriptive statistics (histogrammes, scatter plots) and statistical tests- χ2,Kolmogorov-Smirnov, run-tests preferably but not necessarily all 3, and correlation test forsome h-values."
   ]
  },
  {
   "cell_type": "code",
   "execution_count": 9,
   "id": "333c55d4",
   "metadata": {},
   "outputs": [
    {
     "name": "stdout",
     "output_type": "stream",
     "text": [
      " i     X_i     \n",
      "--------------\n",
      "0     0.125      \n",
      "1     0.6875     \n",
      "2     0.5        \n",
      "3     0.5625     \n",
      "4     0.875      \n",
      "5     0.4375     \n",
      "6     0.25       \n",
      "7     0.3125     \n",
      "8     0.625      \n",
      "9     0.1875     \n",
      "10    0.0        \n",
      "11    0.0625     \n",
      "12    0.375      \n",
      "13    0.9375     \n",
      "14    0.75       \n",
      "15    0.8125     \n",
      "16    0.125      \n",
      "17    0.6875     \n",
      "18    0.5        \n",
      "19    0.5625     \n"
     ]
    }
   ],
   "source": [
    "# Show 20 x_i\n",
    "print(\" i     X_i     \")\n",
    "print(\"--------------\")\n",
    "for i in range(20):\n",
    "    xi = round(numbers[i], 4)\n",
    "    print(f\"{i:<5} {xi:<10} \")\n"
   ]
  },
  {
   "cell_type": "code",
   "execution_count": 4,
   "id": "23b7f0cd",
   "metadata": {},
   "outputs": [
    {
     "name": "stdout",
     "output_type": "stream",
     "text": [
      "\n",
      "Chi-squared statistic: 937.50\n"
     ]
    }
   ],
   "source": [
    "expected = len(numbers) // num_bins\n",
    "chi_squared = 0\n",
    "for observed in hist_counts:\n",
    "    chi_squared += ((observed - expected) ** 2) / expected\n",
    "\n",
    "print(f\"\\nChi-squared statistic: {chi_squared:.2f}\")\n"
   ]
  },
  {
   "cell_type": "code",
   "execution_count": 5,
   "id": "b13bd43e",
   "metadata": {},
   "outputs": [
    {
     "name": "stdout",
     "output_type": "stream",
     "text": [
      "\n",
      "Estimated number of runs (first 100 values): 64\n"
     ]
    }
   ],
   "source": [
    "run_count = 1\n",
    "prev_trend = None\n",
    "short_seq = numbers[:100]  # take first 100 values\n",
    "for i in range(1, len(short_seq)):\n",
    "    if short_seq[i] > short_seq[i - 1]:\n",
    "        trend = \"up\"\n",
    "    elif short_seq[i] < short_seq[i - 1]:\n",
    "        trend = \"down\"\n",
    "    else:\n",
    "        trend = \"same\"\n",
    "\n",
    "    if trend != prev_trend and trend != \"same\":\n",
    "        run_count += 1\n",
    "        prev_trend = trend\n",
    "\n",
    "print(f\"\\nEstimated number of runs (first 100 values): {run_count}\")\n"
   ]
  },
  {
   "cell_type": "code",
   "execution_count": 6,
   "id": "95af317c",
   "metadata": {},
   "outputs": [
    {
     "name": "stdout",
     "output_type": "stream",
     "text": [
      "\n",
      "Correlation between X_i and X_(i+1): 0.2708\n"
     ]
    }
   ],
   "source": [
    "n = len(numbers) - 1\n",
    "x = numbers[:-1]\n",
    "y = numbers[1:]\n",
    "mean_x = sum(x) / n\n",
    "mean_y = sum(y) / n\n",
    "\n",
    "numerator = sum((x[i] - mean_x) * (y[i] - mean_y) for i in range(n))\n",
    "denominator_x = sum((x[i] - mean_x) ** 2 for i in range(n))\n",
    "denominator_y = sum((y[i] - mean_y) ** 2 for i in range(n))\n",
    "correlation = numerator / (denominator_x * denominator_y) ** 0.5\n",
    "\n",
    "print(f\"\\nCorrelation between X_i and X_(i+1): {correlation:.4f}\")\n"
   ]
  },
  {
   "cell_type": "code",
   "execution_count": null,
   "id": "87bfdeba",
   "metadata": {},
   "outputs": [],
   "source": [
    "Lottermann = 0"
   ]
  }
 ],
 "metadata": {
  "kernelspec": {
   "display_name": "MMC",
   "language": "python",
   "name": "python3"
  },
  "language_info": {
   "codemirror_mode": {
    "name": "ipython",
    "version": 3
   },
   "file_extension": ".py",
   "mimetype": "text/x-python",
   "name": "python",
   "nbconvert_exporter": "python",
   "pygments_lexer": "ipython3",
   "version": "3.12.3"
  }
 },
 "nbformat": 4,
 "nbformat_minor": 5
}
